{
 "cells": [
  {
   "cell_type": "code",
   "execution_count": 2,
   "metadata": {},
   "outputs": [
    {
     "name": "stdout",
     "output_type": "stream",
     "text": [
      "10\n",
      "Hello\n"
     ]
    }
   ],
   "source": [
    "class myclass:\n",
    "    a = 10\n",
    "\n",
    "    def f(self):\n",
    "        print(\"Hello\")\n",
    "\n",
    "\n",
    "x = myclass()  #类的实例化 创建了一个类的对象\n",
    "print(x.a)\n",
    "x.f()"
   ]
  },
  {
   "cell_type": "code",
   "execution_count": 4,
   "metadata": {},
   "outputs": [
    {
     "name": "stdout",
     "output_type": "stream",
     "text": [
      "20\n",
      "20\n"
     ]
    }
   ],
   "source": [
    "# 类的构造函数 __init__(self)\n",
    "class myclass:\n",
    "\n",
    "    def __init__(self, age):\n",
    "        self.age = age\n",
    "\n",
    "    def pp(self):\n",
    "        print(self.age)\n",
    "\n",
    "\n",
    "x = myclass(20)  #类的实例化 创建了一个类的对象 会自动调用__init__(self)函数\n",
    "print(x.age)\n",
    "x.pp()"
   ]
  },
  {
   "cell_type": "code",
   "execution_count": null,
   "metadata": {},
   "outputs": [],
   "source": []
  },
  {
   "cell_type": "code",
   "execution_count": null,
   "metadata": {},
   "outputs": [],
   "source": [
    "# 定义一个类，类名为自己的名字\n",
    "# 类中有两个变量，一个是name，一个是age\n",
    "# 构造函数中有两个参数，一个是name，一个是age\n",
    "# 类中有另外两个函数，一个是print_name，一个是print_age\n",
    "# print_name函数打印name变量\n",
    "# print_age函数打印age变量\n",
    "\n",
    "# 创建一个类的对象，对象名为自己的名字\n",
    "# 调用对象的print_name函数\n",
    "# 调用对象的print_age函数"
   ]
  },
  {
   "cell_type": "code",
   "execution_count": 6,
   "metadata": {},
   "outputs": [
    {
     "name": "stdout",
     "output_type": "stream",
     "text": [
      "[90, 50, 45, 3, 29, 51, 88, 81, 22, 47]\n",
      "[50, 45, 3, 29, 51, 88, 81, 22, 47, 90]\n",
      "[45, 3, 29, 50, 51, 81, 22, 47, 88, 90]\n",
      "[3, 29, 45, 50, 51, 22, 47, 81, 88, 90]\n",
      "[3, 29, 45, 50, 22, 47, 51, 81, 88, 90]\n",
      "[3, 29, 45, 22, 47, 50, 51, 81, 88, 90]\n",
      "[3, 29, 22, 45, 47, 50, 51, 81, 88, 90]\n",
      "[3, 22, 29, 45, 47, 50, 51, 81, 88, 90]\n",
      "[3, 22, 29, 45, 47, 50, 51, 81, 88, 90]\n",
      "[3, 22, 29, 45, 47, 50, 51, 81, 88, 90]\n",
      "[3, 22, 29, 45, 47, 50, 51, 81, 88, 90]\n"
     ]
    }
   ],
   "source": [
    "# 冒泡排序\n",
    "# 1.定义一个列表，列表中有10个元素，元素的值为0-100的随机数\n",
    "a = []\n",
    "import random\n",
    "for i in range(10):\n",
    "    a.append(random.randint(0, 100))\n",
    "print(a)\n",
    "for i in range(10):\n",
    "    for j in range(9-i):\n",
    "        if a[j] > a[j+1]:\n",
    "            a[j], a[j+1] = a[j+1], a[j]\n",
    "    print(a)"
   ]
  },
  {
   "cell_type": "code",
   "execution_count": null,
   "metadata": {},
   "outputs": [],
   "source": [
    "# 一个列表，列表中有5个元素，元素的值为0-100的随机数\n",
    "# 用冒泡排序对列表进行排序 从大到小"
   ]
  },
  {
   "cell_type": "code",
   "execution_count": null,
   "metadata": {},
   "outputs": [],
   "source": [
    "# 最坏情况下，冒泡排序的时间复杂度是多少？"
   ]
  },
  {
   "cell_type": "code",
   "execution_count": null,
   "metadata": {},
   "outputs": [],
   "source": [
    "# 1 2 3 4能组成多少个互不相同且无重复数字的三位数？分别是多少？\n",
    "# python实现\n",
    "for i in range(1, 5):\n",
    "    for j in range(1, 5):\n",
    "        for k in range(1, 5):\n",
    "            if i != j and i != k and j != k:\n",
    "                print(i*100+j*10+k)\n"
   ]
  },
  {
   "cell_type": "code",
   "execution_count": null,
   "metadata": {},
   "outputs": [],
   "source": [
    "# 作业\n",
    "# 定义一个类，类名为BubbleSort\n",
    "# 类中有一个变量，变量名为li，变量的值为一个列表，通过构造函数__init__()传入\n",
    "# 类中有一个函数，函数名为sort，函数的功能是对列表进行冒泡排序\n",
    "# 类中有一个函数，函数名为print，函数的功能是打印列表的值\n",
    "\n",
    "# 随机生成一个列表，列表中有10个元素，元素的值为0-100的随机数\n",
    "# 创建一个BubbleSort类的对象，传入随机生成的列表，对象名为x\n",
    "# 调用对象的sort函数\n",
    "# 调用对象的print函数\n"
   ]
  },
  {
   "cell_type": "code",
   "execution_count": 1,
   "metadata": {},
   "outputs": [
    {
     "name": "stdout",
     "output_type": "stream",
     "text": [
      "[37, 4, 73, 1, 14, 68, 76, 23, 100, 7]\n",
      "[1, 4, 7, 14, 23, 37, 68, 73, 76, 100]\n"
     ]
    }
   ],
   "source": [
    "class BubbleSort:\n",
    "\n",
    "    def __init__(self, li):\n",
    "        self.li = li\n",
    "\n",
    "    def sort(self):\n",
    "        for i in range(len(self.li)):\n",
    "            for j in range(len(self.li) - i - 1):\n",
    "                if self.li[j] > self.li[j + 1]:\n",
    "                    self.li[j], self.li[j + 1] = self.li[j + 1], self.li[j]\n",
    "\n",
    "    def print(self):\n",
    "        print(self.li)\n",
    "\n",
    "import random\n",
    "li = []\n",
    "for i in range(10):\n",
    "    li.append(random.randint(0, 100))\n",
    "print(li)\n",
    "x = BubbleSort(li)\n",
    "x.sort()\n",
    "x.print()"
   ]
  }
 ],
 "metadata": {
  "kernelspec": {
   "display_name": "Python 3",
   "language": "python",
   "name": "python3"
  },
  "language_info": {
   "codemirror_mode": {
    "name": "ipython",
    "version": 3
   },
   "file_extension": ".py",
   "mimetype": "text/x-python",
   "name": "python",
   "nbconvert_exporter": "python",
   "pygments_lexer": "ipython3",
   "version": "3.9.1"
  },
  "orig_nbformat": 4
 },
 "nbformat": 4,
 "nbformat_minor": 2
}
