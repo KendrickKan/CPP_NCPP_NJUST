{
 "cells": [
  {
   "cell_type": "code",
   "execution_count": 3,
   "metadata": {},
   "outputs": [
    {
     "name": "stdout",
     "output_type": "stream",
     "text": [
      "1 3\n"
     ]
    }
   ],
   "source": [
    "def a(x, y=2):\n",
    "    print(x, y)\n",
    "\n",
    "\n",
    "a(1, 3)\n"
   ]
  },
  {
   "cell_type": "code",
   "execution_count": 6,
   "metadata": {},
   "outputs": [
    {
     "name": "stdout",
     "output_type": "stream",
     "text": [
      "(1, 2, 3, 4, 5)\n"
     ]
    }
   ],
   "source": [
    "# 不知道有多少个参数\n",
    "def c(*args):\n",
    "    print(args)\n",
    "\n",
    "\n",
    "c(1, 2, 3, 4, 5)\n"
   ]
  },
  {
   "cell_type": "code",
   "execution_count": 11,
   "metadata": {},
   "outputs": [
    {
     "name": "stdout",
     "output_type": "stream",
     "text": [
      "3\n"
     ]
    }
   ],
   "source": [
    "def a(x, y):\n",
    "    return x + y\n",
    "\n",
    "\n",
    "z = a(1, 2)\n",
    "print(z)\n"
   ]
  },
  {
   "cell_type": "code",
   "execution_count": 15,
   "metadata": {},
   "outputs": [
    {
     "name": "stdout",
     "output_type": "stream",
     "text": [
      "zhang\n",
      "li\n",
      "li\n"
     ]
    }
   ],
   "source": [
    "name = 'zhang'  #全局变量\n",
    "\n",
    "\n",
    "def f():\n",
    "    global name #声明全局变量\n",
    "    name = \"li\"\n",
    "    print(name)\n",
    "\n",
    "\n",
    "print(name)\n",
    "f()\n",
    "print(name)"
   ]
  },
  {
   "cell_type": "code",
   "execution_count": 25,
   "metadata": {},
   "outputs": [
    {
     "name": "stdout",
     "output_type": "stream",
     "text": [
      "<class 'list'>\n",
      "2.3\n",
      "2\n",
      "x\n",
      "6\n"
     ]
    }
   ],
   "source": [
    "l = []\n",
    "print(type(l))\n",
    "l = [2.3, 1, 'abcxyz', True, [1, 2, [4, 5, 6], 3]]\n",
    "print(l[0])\n",
    "print(l[4][1])\n",
    "print(l[2][3])\n",
    "print(l[4][2][2])"
   ]
  },
  {
   "cell_type": "code",
   "execution_count": 28,
   "metadata": {},
   "outputs": [
    {
     "name": "stdout",
     "output_type": "stream",
     "text": [
      "[1, 2, 3, 4, 5]\n",
      "[1, 2, 3, 4, 5, 6]\n",
      "[1, 2, 3, 10, 5, 6]\n"
     ]
    }
   ],
   "source": [
    "l = [1, 2, 3, 4, 5]\n",
    "print(l)\n",
    "l.append(6)\n",
    "print(l)\n",
    "l[3]=10\n",
    "print(l)"
   ]
  },
  {
   "cell_type": "code",
   "execution_count": 33,
   "metadata": {},
   "outputs": [
    {
     "name": "stdout",
     "output_type": "stream",
     "text": [
      "<class 'tuple'>\n",
      "(1, 2, 3, 4, 5)\n",
      "1\n"
     ]
    }
   ],
   "source": [
    "# tuple 元组 不能修改 不能增加 不能删除 用（）表示\n",
    "t = (1, 2, 3, 4, 5)\n",
    "print(type(t))\n",
    "print(t)\n",
    "print(t[0])\n",
    "t = (1, 2, 3, 4, 5, 6)\n"
   ]
  }
 ],
 "metadata": {
  "kernelspec": {
   "display_name": "Python 3",
   "language": "python",
   "name": "python3"
  },
  "language_info": {
   "codemirror_mode": {
    "name": "ipython",
    "version": 3
   },
   "file_extension": ".py",
   "mimetype": "text/x-python",
   "name": "python",
   "nbconvert_exporter": "python",
   "pygments_lexer": "ipython3",
   "version": "3.9.1"
  },
  "orig_nbformat": 4
 },
 "nbformat": 4,
 "nbformat_minor": 2
}
