{
 "cells": [
  {
   "cell_type": "code",
   "execution_count": 1,
   "metadata": {},
   "outputs": [],
   "source": [
    "import turtle\n",
    "turtle.begin_fill()\n",
    "turtle.fillcolor(\"black\")\n",
    "turtle.fd(100)\n",
    "turtle.right(90)\n",
    "turtle.fd(100)\n",
    "turtle.right(90)\n",
    "turtle.fd(100)\n",
    "turtle.right(90)\n",
    "turtle.fd(100)\n",
    "turtle.end_fill()\n",
    "turtle.exitonclick()#点击关闭窗口"
   ]
  },
  {
   "cell_type": "code",
   "execution_count": 14,
   "metadata": {},
   "outputs": [
    {
     "name": "stdout",
     "output_type": "stream",
     "text": [
      "[22, 26, 82, 86, 63, 93, 90, 40, 89, 86]\n",
      "86\n",
      "[22, 26, 82, 86, 63, 93, 90, 40, 89]\n"
     ]
    }
   ],
   "source": [
    "import random\n",
    "a = []\n",
    "for _ in range(0,10):\n",
    "    a.append(random.randint(20,100))\n",
    "print(a)\n",
    "print(a.pop())\n",
    "print(a)"
   ]
  },
  {
   "cell_type": "code",
   "execution_count": 17,
   "metadata": {},
   "outputs": [
    {
     "name": "stdout",
     "output_type": "stream",
     "text": [
      "youxiu\n"
     ]
    }
   ],
   "source": [
    "a = 92\n",
    "if a>90:\n",
    "    if a > 95:\n",
    "        print('优秀')\n",
    "    else:\n",
    "        print('youxiu')\n",
    "elif a>80:\n",
    "    print('良好')\n",
    "elif a>70:\n",
    "    print('中等')\n",
    "elif a>60:\n",
    "    print('及格')\n",
    "else:\n",
    "    print('不及格')"
   ]
  },
  {
   "cell_type": "code",
   "execution_count": 19,
   "metadata": {},
   "outputs": [
    {
     "name": "stdout",
     "output_type": "stream",
     "text": [
      "2.0\n",
      "2\n",
      "2.5\n",
      "2\n"
     ]
    }
   ],
   "source": [
    "print(4/2)\n",
    "print(4//2)\n",
    "print(5/2)\n",
    "print(5//2)"
   ]
  }
 ],
 "metadata": {
  "kernelspec": {
   "display_name": "Python 3",
   "language": "python",
   "name": "python3"
  },
  "language_info": {
   "codemirror_mode": {
    "name": "ipython",
    "version": 3
   },
   "file_extension": ".py",
   "mimetype": "text/x-python",
   "name": "python",
   "nbconvert_exporter": "python",
   "pygments_lexer": "ipython3",
   "version": "3.9.1"
  },
  "orig_nbformat": 4
 },
 "nbformat": 4,
 "nbformat_minor": 2
}
