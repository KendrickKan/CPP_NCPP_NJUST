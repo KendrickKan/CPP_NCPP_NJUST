{
 "cells": [
  {
   "cell_type": "code",
   "execution_count": 4,
   "metadata": {},
   "outputs": [
    {
     "name": "stdout",
     "output_type": "stream",
     "text": [
      "1+1=2\n"
     ]
    }
   ],
   "source": [
    "# num1\n",
    "# num2\n",
    "# 输出 num1+num2=结果\n",
    "# 例如：输入 1 2 输出 1+2=3\n",
    "num1 = int(input())\n",
    "# num2 = int(input())\n",
    "print('{}+{}={}'.format(num1,num1,num1+num1))"
   ]
  },
  {
   "cell_type": "code",
   "execution_count": 6,
   "metadata": {},
   "outputs": [],
   "source": [
    "# 考试 python4级\n",
    "# 考试号 21431\n",
    "# 1d\n",
    "# 2b\n",
    "# 3b\n",
    "# 4c\n",
    "# 5d\n",
    "# 6b\n",
    "# 7a\n",
    "# 8c\n",
    "# 9a\n",
    "# 10d\n",
    "# 11c\n",
    "# 12d\n",
    "# 13c\n",
    "# 14c\n",
    "# 15b\n",
    "\n",
    "# 1abd\n",
    "# 2abd\n",
    "# 3cd\n",
    "# 4ac\n",
    "# 5bc"
   ]
  },
  {
   "cell_type": "code",
   "execution_count": 7,
   "metadata": {},
   "outputs": [
    {
     "name": "stdout",
     "output_type": "stream",
     "text": [
      "北京冬奥会欢迎123运动员\n"
     ]
    }
   ],
   "source": [
    "# 编程第一题\n",
    "a = input()\n",
    "print('北京冬奥会欢迎{}运动员'.format(a))"
   ]
  },
  {
   "cell_type": "code",
   "execution_count": 8,
   "metadata": {},
   "outputs": [
    {
     "name": "stdout",
     "output_type": "stream",
     "text": [
      "239元\n"
     ]
    }
   ],
   "source": [
    "# 编程第二题\n",
    "a = int(input())\n",
    "if a < 3:\n",
    "    print('0元')\n",
    "elif a <= 11:\n",
    "    print('239元')\n",
    "elif a < 65:\n",
    "    print('339元')\n",
    "else:\n",
    "    print('239元')"
   ]
  },
  {
   "cell_type": "code",
   "execution_count": 9,
   "metadata": {},
   "outputs": [
    {
     "name": "stdout",
     "output_type": "stream",
     "text": [
      "1275\n"
     ]
    }
   ],
   "source": [
    "# 编程第三题\n",
    "sum = 0\n",
    "for i in range(1,51):\n",
    "    sum += i\n",
    "print(sum)"
   ]
  },
  {
   "cell_type": "code",
   "execution_count": 10,
   "metadata": {},
   "outputs": [
    {
     "ename": "ValueError",
     "evalue": "invalid literal for int() with base 10: '1 2 3'",
     "output_type": "error",
     "traceback": [
      "\u001b[1;31m---------------------------------------------------------------------------\u001b[0m",
      "\u001b[1;31mValueError\u001b[0m                                Traceback (most recent call last)",
      "\u001b[1;32md:\\VSCode File\\CPlusPlus\\PythonLesson\\Python4~5\\class7\\class7.ipynb 单元格 6\u001b[0m in \u001b[0;36m2\n\u001b[0;32m      <a href='vscode-notebook-cell:/d%3A/VSCode%20File/CPlusPlus/PythonLesson/Python4~5/class7/class7.ipynb#W5sZmlsZQ%3D%3D?line=0'>1</a>\u001b[0m \u001b[39m# 编程第四题\u001b[39;00m\n\u001b[1;32m----> <a href='vscode-notebook-cell:/d%3A/VSCode%20File/CPlusPlus/PythonLesson/Python4~5/class7/class7.ipynb#W5sZmlsZQ%3D%3D?line=1'>2</a>\u001b[0m a \u001b[39m=\u001b[39m \u001b[39mint\u001b[39;49m(\u001b[39minput\u001b[39;49m())\n\u001b[0;32m      <a href='vscode-notebook-cell:/d%3A/VSCode%20File/CPlusPlus/PythonLesson/Python4~5/class7/class7.ipynb#W5sZmlsZQ%3D%3D?line=2'>3</a>\u001b[0m b \u001b[39m=\u001b[39m \u001b[39mint\u001b[39m(\u001b[39minput\u001b[39m())\n\u001b[0;32m      <a href='vscode-notebook-cell:/d%3A/VSCode%20File/CPlusPlus/PythonLesson/Python4~5/class7/class7.ipynb#W5sZmlsZQ%3D%3D?line=3'>4</a>\u001b[0m c \u001b[39m=\u001b[39m \u001b[39mint\u001b[39m(\u001b[39minput\u001b[39m())\n",
      "\u001b[1;31mValueError\u001b[0m: invalid literal for int() with base 10: '1 2 3'"
     ]
    }
   ],
   "source": [
    "# 编程第四题\n",
    "a = int(input())\n",
    "b = int(input())\n",
    "c = int(input())\n",
    "if ((a + b) * c) % 2 == 0:\n",
    "    print(int((a + b) * c / 2))\n",
    "else:\n",
    "    print((a + b) * c / 2)"
   ]
  }
 ],
 "metadata": {
  "kernelspec": {
   "display_name": "Python 3",
   "language": "python",
   "name": "python3"
  },
  "language_info": {
   "codemirror_mode": {
    "name": "ipython",
    "version": 3
   },
   "file_extension": ".py",
   "mimetype": "text/x-python",
   "name": "python",
   "nbconvert_exporter": "python",
   "pygments_lexer": "ipython3",
   "version": "3.9.1"
  },
  "orig_nbformat": 4
 },
 "nbformat": 4,
 "nbformat_minor": 2
}
