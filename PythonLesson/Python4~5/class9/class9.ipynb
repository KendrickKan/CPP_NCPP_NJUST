{
 "cells": [
  {
   "cell_type": "code",
   "execution_count": 1,
   "metadata": {},
   "outputs": [
    {
     "name": "stdout",
     "output_type": "stream",
     "text": [
      "hello\n"
     ]
    }
   ],
   "source": [
    "print('hello')"
   ]
  },
  {
   "cell_type": "code",
   "execution_count": null,
   "metadata": {},
   "outputs": [],
   "source": [
    "# Python 字符串\n",
    "# 创建一个字符串\n",
    "str1 = 'hello'\n",
    "str2 = \"hello\"\n",
    "str3 = ''"
   ]
  },
  {
   "cell_type": "code",
   "execution_count": 7,
   "metadata": {},
   "outputs": [
    {
     "name": "stdout",
     "output_type": "stream",
     "text": [
      "ell\n",
      "hel\n"
     ]
    }
   ],
   "source": [
    "# 字符串的索引\n",
    "str1 = 'hello'\n",
    "# -5 -4 -3 -2 -1\n",
    "print(str1[-4:-1])\n",
    "print(str1[:-2])"
   ]
  },
  {
   "cell_type": "code",
   "execution_count": 10,
   "metadata": {},
   "outputs": [
    {
     "name": "stdout",
     "output_type": "stream",
     "text": [
      "hel\\lo\n"
     ]
    }
   ],
   "source": [
    "# 转义字符 \\\n",
    "str1 = 'hel\\\\lo'\n",
    "print(str1)\n",
    "# \\n 换行\n",
    "# \\t 制表符\n",
    "# \\\\ 反斜杠\n",
    "# \\' 单引号\n",
    "# \\\" 双引号"
   ]
  },
  {
   "cell_type": "code",
   "execution_count": 12,
   "metadata": {},
   "outputs": [
    {
     "name": "stdout",
     "output_type": "stream",
     "text": [
      "helloworld\n"
     ]
    }
   ],
   "source": [
    "# \\ 在行尾的时候，表示续行\n",
    "str1 = 'hello\\\n",
    "world'\n",
    "print(str1)"
   ]
  },
  {
   "cell_type": "code",
   "execution_count": 13,
   "metadata": {},
   "outputs": [
    {
     "name": "stdout",
     "output_type": "stream",
     "text": [
      "hellworld\n"
     ]
    }
   ],
   "source": [
    "# \\b 退格 删除前一个字符\n",
    "str1 = 'hello\\bworld'\n",
    "print(str1)"
   ]
  },
  {
   "cell_type": "code",
   "execution_count": 17,
   "metadata": {},
   "outputs": [
    {
     "name": "stdout",
     "output_type": "stream",
     "text": [
      "helloworld\n",
      "hellohellohello\n",
      "False\n"
     ]
    }
   ],
   "source": [
    "# 字符串的运算\n",
    "# 字符串的拼接 +\n",
    "str1 = 'hello'\n",
    "str2 = 'world'\n",
    "str3 = str1 + str2\n",
    "print(str3)\n",
    "# 字符串的重复 *\n",
    "str1 = 'hello'\n",
    "str2 = str1 * 3\n",
    "print(str2)\n",
    "# 成员运算符 in\n",
    "str1 = 'hello'\n",
    "print('H' in str1)"
   ]
  },
  {
   "cell_type": "code",
   "execution_count": null,
   "metadata": {},
   "outputs": [],
   "source": [
    "# 字符串 format 格式化"
   ]
  },
  {
   "cell_type": "code",
   "execution_count": 18,
   "metadata": {},
   "outputs": [
    {
     "name": "stdout",
     "output_type": "stream",
     "text": [
      "5\n"
     ]
    }
   ],
   "source": [
    "# 字符串的内置函数\n",
    "# len() 计算字符串的长度\n",
    "str1 = 'hello'\n",
    "print(len(str1))"
   ]
  },
  {
   "cell_type": "code",
   "execution_count": 21,
   "metadata": {},
   "outputs": [
    {
     "name": "stdout",
     "output_type": "stream",
     "text": [
      "Hello\n"
     ]
    }
   ],
   "source": [
    "# capitalize() 首字母大写\n",
    "str1 = 'hello'\n",
    "print(str1.capitalize())"
   ]
  },
  {
   "cell_type": "code",
   "execution_count": 25,
   "metadata": {},
   "outputs": [
    {
     "name": "stdout",
     "output_type": "stream",
     "text": [
      "2\n",
      "0\n"
     ]
    }
   ],
   "source": [
    "# count(sub) 计算字符串中某个字符出现的次数\n",
    "str1 = 'hello'\n",
    "print(str1.count('l'))\n",
    "# count(sub, start, end) sub:子字符串，start:开始位置，end:结束位置 end位置不包含\n",
    "str1 = 'hello'\n",
    "print(str1.count('l', 0, 3))"
   ]
  },
  {
   "cell_type": "code",
   "execution_count": 28,
   "metadata": {},
   "outputs": [
    {
     "name": "stdout",
     "output_type": "stream",
     "text": [
      "2\n",
      "3\n",
      "-1\n"
     ]
    }
   ],
   "source": [
    "# find(sub) 查找字符串中某个字符出现的位置 返回第一次出现的位置\n",
    "str1 = 'hello'\n",
    "print(str1.find('l'))\n",
    "# find(sub, start, end) sub:子字符串，start:开始位置，end:结束位置 end位置不包含\n",
    "str1 = 'hello'\n",
    "print(str1.find('l', 3, 5))\n",
    "# 如果没有找到，返回-1\n",
    "str1 = 'hello'\n",
    "print(str1.find('a'))"
   ]
  },
  {
   "cell_type": "code",
   "execution_count": 29,
   "metadata": {},
   "outputs": [
    {
     "ename": "ValueError",
     "evalue": "substring not found",
     "output_type": "error",
     "traceback": [
      "\u001b[1;31m---------------------------------------------------------------------------\u001b[0m",
      "\u001b[1;31mValueError\u001b[0m                                Traceback (most recent call last)",
      "\u001b[1;32md:\\VSCode File\\CPlusPlus\\PythonLesson\\Python4~5\\class9\\class9.ipynb 单元格 13\u001b[0m in \u001b[0;36m4\n\u001b[0;32m      <a href='vscode-notebook-cell:/d%3A/VSCode%20File/CPlusPlus/PythonLesson/Python4~5/class9/class9.ipynb#X15sZmlsZQ%3D%3D?line=0'>1</a>\u001b[0m \u001b[39m# index(sub) 查找字符串中某个字符出现的位置 返回第一次出现的位置\u001b[39;00m\n\u001b[0;32m      <a href='vscode-notebook-cell:/d%3A/VSCode%20File/CPlusPlus/PythonLesson/Python4~5/class9/class9.ipynb#X15sZmlsZQ%3D%3D?line=1'>2</a>\u001b[0m \u001b[39m# 如果没有找到，报错\u001b[39;00m\n\u001b[0;32m      <a href='vscode-notebook-cell:/d%3A/VSCode%20File/CPlusPlus/PythonLesson/Python4~5/class9/class9.ipynb#X15sZmlsZQ%3D%3D?line=2'>3</a>\u001b[0m str1 \u001b[39m=\u001b[39m \u001b[39m'\u001b[39m\u001b[39mhello\u001b[39m\u001b[39m'\u001b[39m\n\u001b[1;32m----> <a href='vscode-notebook-cell:/d%3A/VSCode%20File/CPlusPlus/PythonLesson/Python4~5/class9/class9.ipynb#X15sZmlsZQ%3D%3D?line=3'>4</a>\u001b[0m \u001b[39mprint\u001b[39m(str1\u001b[39m.\u001b[39;49mindex(\u001b[39m'\u001b[39;49m\u001b[39ma\u001b[39;49m\u001b[39m'\u001b[39;49m))\n",
      "\u001b[1;31mValueError\u001b[0m: substring not found"
     ]
    }
   ],
   "source": [
    "# index(sub) 查找字符串中某个字符出现的位置 返回第一次出现的位置\n",
    "# 如果没有找到，报错\n",
    "str1 = 'hello'\n",
    "print(str1.index('a'))"
   ]
  },
  {
   "cell_type": "code",
   "execution_count": 31,
   "metadata": {},
   "outputs": [
    {
     "name": "stdout",
     "output_type": "stream",
     "text": [
      "HELLO\n",
      "hello\n"
     ]
    }
   ],
   "source": [
    "# upper() 字符串转大写\n",
    "str1 = 'hello'\n",
    "print(str1.upper())\n",
    "# lower() 字符串转小写\n",
    "str1 = 'HELLO'\n",
    "print(str1.lower())"
   ]
  },
  {
   "cell_type": "code",
   "execution_count": 33,
   "metadata": {},
   "outputs": [
    {
     "name": "stdout",
     "output_type": "stream",
     "text": [
      "o\n",
      "e\n"
     ]
    }
   ],
   "source": [
    "# max() 返回字符串中最大的字符\n",
    "str1 = 'hello'\n",
    "print(max(str1))\n",
    "# min() 返回字符串中最小的字符\n",
    "str1 = 'hello'\n",
    "print(min(str1))"
   ]
  },
  {
   "cell_type": "code",
   "execution_count": 37,
   "metadata": {},
   "outputs": [
    {
     "name": "stdout",
     "output_type": "stream",
     "text": [
      "h\n",
      "9\n"
     ]
    }
   ],
   "source": [
    "str1 = 'hH9'\n",
    "print(max(str1))\n",
    "print(min(str1))\n",
    "# 字符串中的字符，都是按照ASCII码进行比较的\n",
    "# A-Z 65-90\n",
    "# a-z 97-122\n",
    "# 0-9 48-57"
   ]
  },
  {
   "cell_type": "code",
   "execution_count": 42,
   "metadata": {},
   "outputs": [
    {
     "name": "stdout",
     "output_type": "stream",
     "text": [
      "heLloL\n",
      "hello\n"
     ]
    }
   ],
   "source": [
    "# replace(old, new) 字符串替换\n",
    "str1 = 'hellloll'\n",
    "print(str1.replace('ll', 'L'))\n",
    "# 如果没有找到，返回原字符串\n",
    "str1 = 'hello'\n",
    "print(str1.replace('a', 'A'))"
   ]
  },
  {
   "cell_type": "code",
   "execution_count": 44,
   "metadata": {},
   "outputs": [
    {
     "name": "stdout",
     "output_type": "stream",
     "text": [
      "False\n",
      "False\n",
      "False\n",
      "False\n",
      "False\n"
     ]
    }
   ],
   "source": [
    "# 空列表的布尔值为False\n",
    "# 空字符串的布尔值为False\n",
    "# 空元组的布尔值为False\n",
    "# 空字典的布尔值为False\n",
    "# 空集合的布尔值为False\n",
    "print(bool([]))\n",
    "print(bool(''))\n",
    "print(bool(()))\n",
    "print(bool({}))\n",
    "print(bool(set()))"
   ]
  },
  {
   "cell_type": "code",
   "execution_count": 46,
   "metadata": {},
   "outputs": [
    {
     "name": "stdout",
     "output_type": "stream",
     "text": [
      "<class 'NoneType'>\n",
      "False\n"
     ]
    }
   ],
   "source": [
    "# Python是一门面向对象的语言\n",
    "# Python中一切皆对象\n",
    "# 对象：具有属性和行为的事物\n",
    "# None 也是一个对象 空对象  表示什么都没有\n",
    "print(type(None))\n",
    "print(bool(None))"
   ]
  },
  {
   "cell_type": "code",
   "execution_count": 47,
   "metadata": {},
   "outputs": [
    {
     "name": "stdout",
     "output_type": "stream",
     "text": [
      "['False', 'None', 'True', '__peg_parser__', 'and', 'as', 'assert', 'async', 'await', 'break', 'class', 'continue', 'def', 'del', 'elif', 'else', 'except', 'finally', 'for', 'from', 'global', 'if', 'import', 'in', 'is', 'lambda', 'nonlocal', 'not', 'or', 'pass', 'raise', 'return', 'try', 'while', 'with', 'yield']\n"
     ]
    }
   ],
   "source": [
    "# Python常用知识\n",
    "# keywords 关键字\n",
    "# 保留字\n",
    "# 不能用作变量名\n",
    "import keyword\n",
    "print(keyword.kwlist)"
   ]
  },
  {
   "cell_type": "code",
   "execution_count": 57,
   "metadata": {},
   "outputs": [
    {
     "name": "stdout",
     "output_type": "stream",
     "text": [
      "8\n",
      "10\n",
      "2\n",
      "1\n",
      "3\n"
     ]
    }
   ],
   "source": [
    "# import 导入模块\n",
    "\n",
    "# import 模块名\n",
    "import random\n",
    "# 模块名.函数名\n",
    "print(random.randint(1, 10))\n",
    "\n",
    "# from 模块名 import 函数名1, 函数名2, 函数名3\n",
    "from random import randint,random\n",
    "print(randint(1, 10))\n",
    "\n",
    "# from 模块名 import *\n",
    "# 导入模块中的所有函数\n",
    "from random import *\n",
    "print(randint(1, 10))\n",
    "\n",
    "# as 为导入的模块起别名\n",
    "import random as r\n",
    "print(r.randint(1, 10))\n",
    "\n",
    "# from 模块名 import 函数名 as 别名\n",
    "from random import randint as r\n",
    "print(r(1, 10))"
   ]
  },
  {
   "cell_type": "code",
   "execution_count": null,
   "metadata": {},
   "outputs": [],
   "source": [
    "if (a ==1 and b==2) or () or():\n",
    "    print()\n",
    "elif\n",
    "else"
   ]
  },
  {
   "cell_type": "code",
   "execution_count": 62,
   "metadata": {},
   "outputs": [
    {
     "name": "stdout",
     "output_type": "stream",
     "text": [
      "True\n",
      "False\n",
      "False\n",
      "True\n",
      "True\n",
      "False\n"
     ]
    }
   ],
   "source": [
    "# 判断一个字符是否是数字\n",
    "# isdigit()\n",
    "str1 = '5'\n",
    "str2 = 'a'\n",
    "print(str1.isdigit())\n",
    "print(str2.isdigit())\n",
    "# 判断一个字符是否是字母\n",
    "# isalpha()\n",
    "str1 = '5'\n",
    "str2 = 'a'\n",
    "print(str1.isalpha())\n",
    "print(str2.isalpha())\n",
    "# 判断一个字符是否是空格\n",
    "# isspace()\n",
    "str1 = ' '\n",
    "str2 = 'a'\n",
    "print(str1.isspace())\n",
    "print(str2.isspace())"
   ]
  }
 ],
 "metadata": {
  "kernelspec": {
   "display_name": "Python 3",
   "language": "python",
   "name": "python3"
  },
  "language_info": {
   "codemirror_mode": {
    "name": "ipython",
    "version": 3
   },
   "file_extension": ".py",
   "mimetype": "text/x-python",
   "name": "python",
   "nbconvert_exporter": "python",
   "pygments_lexer": "ipython3",
   "version": "3.9.1"
  },
  "orig_nbformat": 4
 },
 "nbformat": 4,
 "nbformat_minor": 2
}
