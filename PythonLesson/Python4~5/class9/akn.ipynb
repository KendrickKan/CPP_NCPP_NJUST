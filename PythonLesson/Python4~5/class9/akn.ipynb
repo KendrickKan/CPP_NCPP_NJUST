{
 "cells": [
  {
   "cell_type": "code",
   "execution_count": 27,
   "metadata": {},
   "outputs": [
    {
     "name": "stdout",
     "output_type": "stream",
     "text": [
      "0 0 17\n"
     ]
    }
   ],
   "source": [
    "s='hello Word 我 爱 编程'\n",
    "a=0\n",
    "b=0\n",
    "c=0\n",
    "for i in s:\n",
    "    if s.isalpha():\n",
    "        a+=1\n",
    "    elif s.isspace():\n",
    "        b+=1\n",
    "    else:\n",
    "        c+=1\n",
    "print(a,b,c)\n"
   ]
  }
 ],
 "metadata": {
  "kernelspec": {
   "display_name": "Python 3",
   "language": "python",
   "name": "python3"
  },
  "language_info": {
   "codemirror_mode": {
    "name": "ipython",
    "version": 3
   },
   "file_extension": ".py",
   "mimetype": "text/x-python",
   "name": "python",
   "nbconvert_exporter": "python",
   "pygments_lexer": "ipython3",
   "version": "3.10.11"
  },
  "orig_nbformat": 4
 },
 "nbformat": 4,
 "nbformat_minor": 2
}
