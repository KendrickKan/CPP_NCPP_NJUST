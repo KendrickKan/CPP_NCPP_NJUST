{
 "cells": [
  {
   "cell_type": "code",
   "execution_count": 3,
   "metadata": {},
   "outputs": [
    {
     "name": "stdout",
     "output_type": "stream",
     "text": [
      "123456234563456456566"
     ]
    }
   ],
   "source": [
    "s = '123456'\n",
    "for i in range(6):\n",
    "    for ch in s[i:]:\n",
    "        print(ch, end='')"
   ]
  },
  {
   "cell_type": "code",
   "execution_count": 4,
   "metadata": {},
   "outputs": [
    {
     "name": "stdout",
     "output_type": "stream",
     "text": [
      "0 5 7 3\n"
     ]
    }
   ],
   "source": [
    "a, b, c, d = 9, 5, 2, 7\n",
    "a = (a + 8) % 10\n",
    "b = (b + 8) % 10\n",
    "c = (c + 8) % 10\n",
    "d = (d + 8) % 10\n",
    "a, c = c, a\n",
    "b, d = d, b\n",
    "print(a, b, c, d)\n"
   ]
  },
  {
   "cell_type": "code",
   "execution_count": 5,
   "metadata": {},
   "outputs": [
    {
     "name": "stdout",
     "output_type": "stream",
     "text": [
      "123\n"
     ]
    }
   ],
   "source": [
    "s='123,'\n",
    "print(s[:-1])"
   ]
  },
  {
   "cell_type": "code",
   "execution_count": 6,
   "metadata": {},
   "outputs": [
    {
     "name": "stdout",
     "output_type": "stream",
     "text": [
      "['1', '2', '3', '4', '5', '6', '7', '8']\n"
     ]
    }
   ],
   "source": [
    "ls = ['1','2','3','4','5','6','7','8','9']\n",
    "ls.remove('9')\n",
    "print(ls)"
   ]
  },
  {
   "cell_type": "code",
   "execution_count": 7,
   "metadata": {},
   "outputs": [
    {
     "name": "stdout",
     "output_type": "stream",
     "text": [
      "35\n"
     ]
    }
   ],
   "source": [
    "sum = 0\n",
    "n = 2\n",
    "while sum < 3.17:\n",
    "    sum += 1 / (n)\n",
    "    n += 1\n",
    "print(n - 2)\n"
   ]
  },
  {
   "cell_type": "code",
   "execution_count": 12,
   "metadata": {},
   "outputs": [
    {
     "name": "stdout",
     "output_type": "stream",
     "text": [
      "[1, 2, 4, 5, 6, 7, 9]\n",
      "[9, 7, 6, 5, 4, 2, 1]\n",
      "[5, 9, 4, 1, 7, 6, 2]\n",
      "[1, 2, 4, 5, 6, 7, 9]\n"
     ]
    }
   ],
   "source": [
    "li = [5, 9, 4, 1, 7, 6, 2]\n",
    "# 默认升序\n",
    "print(sorted(li))\n",
    "# 降序\n",
    "print(sorted(li, reverse=True))\n",
    "# 没有改变原列表\n",
    "print(li)\n",
    "li.sort()\n",
    "print(li)"
   ]
  }
 ],
 "metadata": {
  "kernelspec": {
   "display_name": "Python 3",
   "language": "python",
   "name": "python3"
  },
  "language_info": {
   "codemirror_mode": {
    "name": "ipython",
    "version": 3
   },
   "file_extension": ".py",
   "mimetype": "text/x-python",
   "name": "python",
   "nbconvert_exporter": "python",
   "pygments_lexer": "ipython3",
   "version": "3.9.1"
  },
  "orig_nbformat": 4
 },
 "nbformat": 4,
 "nbformat_minor": 2
}
