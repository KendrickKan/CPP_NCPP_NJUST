{
 "cells": [
  {
   "cell_type": "code",
   "execution_count": 6,
   "metadata": {},
   "outputs": [
    {
     "name": "stdout",
     "output_type": "stream",
     "text": [
      "Hello World\n",
      "3\n",
      "这是一个正数\n",
      "这是一个0\n",
      "这是一个负数\n",
      "这是一个负数\n"
     ]
    }
   ],
   "source": [
    "print('Hello World')\n",
    "print(3)\n",
    "\n",
    "def a(b):\n",
    "    if(b>0):\n",
    "        print(\"这是一个正数\")\n",
    "    elif(b==0):\n",
    "        print(\"这是一个0\")\n",
    "    else:\n",
    "        print(\"这是一个负数\")\n",
    "\n",
    "a(1)\n",
    "a(0)\n",
    "a(-1)\n",
    "x = input(\"请输入一个数字：\")\n",
    "a(int(x))"
   ]
  },
  {
   "cell_type": "code",
   "execution_count": 1,
   "metadata": {},
   "outputs": [
    {
     "name": "stdout",
     "output_type": "stream",
     "text": [
      "['False', 'None', 'True', '__peg_parser__', 'and', 'as', 'assert', 'async', 'await', 'break', 'class', 'continue', 'def', 'del', 'elif', 'else', 'except', 'finally', 'for', 'from', 'global', 'if', 'import', 'in', 'is', 'lambda', 'nonlocal', 'not', 'or', 'pass', 'raise', 'return', 'try', 'while', 'with', 'yield']\n"
     ]
    }
   ],
   "source": [
    "import keyword\n",
    "print(keyword.kwlist)"
   ]
  }
 ],
 "metadata": {
  "kernelspec": {
   "display_name": "Python 3",
   "language": "python",
   "name": "python3"
  },
  "language_info": {
   "codemirror_mode": {
    "name": "ipython",
    "version": 3
   },
   "file_extension": ".py",
   "mimetype": "text/x-python",
   "name": "python",
   "nbconvert_exporter": "python",
   "pygments_lexer": "ipython3",
   "version": "3.9.1"
  },
  "orig_nbformat": 4,
  "vscode": {
   "interpreter": {
    "hash": "3dbef6ad0a9307bf9d04ec793fbab83c611eccdc7d8296d34afeff18d9f8d7aa"
   }
  }
 },
 "nbformat": 4,
 "nbformat_minor": 2
}
