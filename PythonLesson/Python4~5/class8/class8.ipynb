{
 "cells": [
  {
   "cell_type": "code",
   "execution_count": 1,
   "metadata": {},
   "outputs": [
    {
     "name": "stdout",
     "output_type": "stream",
     "text": [
      "class8.ipynb\n"
     ]
    }
   ],
   "source": [
    "print(\"class8.ipynb\")"
   ]
  },
  {
   "cell_type": "code",
   "execution_count": null,
   "metadata": {},
   "outputs": [],
   "source": []
  },
  {
   "cell_type": "code",
   "execution_count": null,
   "metadata": {},
   "outputs": [],
   "source": [
    "# 字典 dict dictionary\n",
    "# 字典是一种映射类型，字典用\"{ }\"标识，它是一个无序的键(key) : 值(value)对集合。\n",
    "# 在同一个字典中，键(key)必须是唯一的。"
   ]
  },
  {
   "cell_type": "code",
   "execution_count": 3,
   "metadata": {},
   "outputs": [
    {
     "name": "stdout",
     "output_type": "stream",
     "text": [
      "{'a': 1, 'b': 2, 'c': 3}\n",
      "<class 'dict'>\n"
     ]
    }
   ],
   "source": [
    "d1 = {'a': 1, 'b': 2, 'c': 3}\n",
    "# 一对是一个元素，元素之间用逗号隔开 键key值value对\n",
    "print(d1)\n",
    "print(type(d1))"
   ]
  },
  {
   "cell_type": "code",
   "execution_count": 7,
   "metadata": {},
   "outputs": [
    {
     "name": "stdout",
     "output_type": "stream",
     "text": [
      "1\n",
      "2\n",
      "3\n"
     ]
    }
   ],
   "source": [
    "d1 = {'a': 1, 'b': 2, 'c': 3}\n",
    "print(d1['a'])\n",
    "print(d1['b'])\n",
    "print(d1['c'])"
   ]
  },
  {
   "cell_type": "code",
   "execution_count": 8,
   "metadata": {},
   "outputs": [
    {
     "name": "stdout",
     "output_type": "stream",
     "text": [
      "123\n",
      "ab\n",
      "ac\n"
     ]
    }
   ],
   "source": [
    "d2 = {123: 123, 'ab': 'ab', 12: 'ac'}\n",
    "print(d2[123])\n",
    "print(d2['ab'])\n",
    "print(d2[12])\n",
    "# 键和值可以是任意类型 但是键不能重复\n",
    "# 键必须是不可变的类型 不能是列表 但是可以是元组、字符串、数字"
   ]
  },
  {
   "cell_type": "code",
   "execution_count": 10,
   "metadata": {},
   "outputs": [
    {
     "name": "stdout",
     "output_type": "stream",
     "text": [
      "{}\n",
      "<class 'dict'>\n",
      "{}\n",
      "<class 'dict'>\n"
     ]
    }
   ],
   "source": [
    "# 字典是用{}表示的\n",
    "# 创建一个空字典\n",
    "d3 = {}\n",
    "print(d3)\n",
    "print(type(d3))\n",
    "\n",
    "d4 = dict()\n",
    "print(d4)\n",
    "print(type(d4))"
   ]
  },
  {
   "cell_type": "code",
   "execution_count": 11,
   "metadata": {},
   "outputs": [
    {
     "ename": "KeyError",
     "evalue": "'d'",
     "output_type": "error",
     "traceback": [
      "\u001b[1;31m---------------------------------------------------------------------------\u001b[0m",
      "\u001b[1;31mKeyError\u001b[0m                                  Traceback (most recent call last)",
      "\u001b[1;32md:\\VSCode File\\CPlusPlus\\PythonLesson\\Python4~5\\class8\\class8.ipynb 单元格 7\u001b[0m in \u001b[0;36m2\n\u001b[0;32m      <a href='vscode-notebook-cell:/d%3A/VSCode%20File/CPlusPlus/PythonLesson/Python4~5/class8/class8.ipynb#X10sZmlsZQ%3D%3D?line=0'>1</a>\u001b[0m d1 \u001b[39m=\u001b[39m {\u001b[39m'\u001b[39m\u001b[39ma\u001b[39m\u001b[39m'\u001b[39m: \u001b[39m1\u001b[39m, \u001b[39m'\u001b[39m\u001b[39mb\u001b[39m\u001b[39m'\u001b[39m: \u001b[39m2\u001b[39m, \u001b[39m'\u001b[39m\u001b[39mc\u001b[39m\u001b[39m'\u001b[39m: \u001b[39m3\u001b[39m}\n\u001b[1;32m----> <a href='vscode-notebook-cell:/d%3A/VSCode%20File/CPlusPlus/PythonLesson/Python4~5/class8/class8.ipynb#X10sZmlsZQ%3D%3D?line=1'>2</a>\u001b[0m \u001b[39mprint\u001b[39m(d1[\u001b[39m'\u001b[39;49m\u001b[39md\u001b[39;49m\u001b[39m'\u001b[39;49m])\n",
      "\u001b[1;31mKeyError\u001b[0m: 'd'"
     ]
    }
   ],
   "source": [
    "d1 = {'a': 1, 'b': 2, 'c': 3}\n",
    "print(d1['d'])\n",
    "# KeyError: 'd'\n",
    "# 键不存在会报错"
   ]
  },
  {
   "cell_type": "code",
   "execution_count": 14,
   "metadata": {},
   "outputs": [
    {
     "name": "stdout",
     "output_type": "stream",
     "text": [
      "{'a': 100, 'b': 2, 'c': 3}\n",
      "{'a': 100, 'b': 2, 'c': 3, 'd': 4}\n"
     ]
    }
   ],
   "source": [
    "d1 = {'a': 1, 'b': 2, 'c': 3}\n",
    "# 字典的修改\n",
    "d1['a'] = 100\n",
    "print(d1)\n",
    "# 字典的添加\n",
    "d1['d'] = 4\n",
    "print(d1)"
   ]
  },
  {
   "cell_type": "code",
   "execution_count": 16,
   "metadata": {},
   "outputs": [
    {
     "name": "stdout",
     "output_type": "stream",
     "text": [
      "{'b': 2, 'c': 3}\n"
     ]
    },
    {
     "ename": "KeyError",
     "evalue": "'d'",
     "output_type": "error",
     "traceback": [
      "\u001b[1;31m---------------------------------------------------------------------------\u001b[0m",
      "\u001b[1;31mKeyError\u001b[0m                                  Traceback (most recent call last)",
      "\u001b[1;32md:\\VSCode File\\CPlusPlus\\PythonLesson\\Python4~5\\class8\\class8.ipynb 单元格 9\u001b[0m in \u001b[0;36m5\n\u001b[0;32m      <a href='vscode-notebook-cell:/d%3A/VSCode%20File/CPlusPlus/PythonLesson/Python4~5/class8/class8.ipynb#X12sZmlsZQ%3D%3D?line=2'>3</a>\u001b[0m \u001b[39mdel\u001b[39;00m d1[\u001b[39m'\u001b[39m\u001b[39ma\u001b[39m\u001b[39m'\u001b[39m]\n\u001b[0;32m      <a href='vscode-notebook-cell:/d%3A/VSCode%20File/CPlusPlus/PythonLesson/Python4~5/class8/class8.ipynb#X12sZmlsZQ%3D%3D?line=3'>4</a>\u001b[0m \u001b[39mprint\u001b[39m(d1)\n\u001b[1;32m----> <a href='vscode-notebook-cell:/d%3A/VSCode%20File/CPlusPlus/PythonLesson/Python4~5/class8/class8.ipynb#X12sZmlsZQ%3D%3D?line=4'>5</a>\u001b[0m \u001b[39mdel\u001b[39;00m d1[\u001b[39m'\u001b[39m\u001b[39md\u001b[39m\u001b[39m'\u001b[39m]\n\u001b[0;32m      <a href='vscode-notebook-cell:/d%3A/VSCode%20File/CPlusPlus/PythonLesson/Python4~5/class8/class8.ipynb#X12sZmlsZQ%3D%3D?line=5'>6</a>\u001b[0m \u001b[39m# KeyError: 'd'\u001b[39;00m\n",
      "\u001b[1;31mKeyError\u001b[0m: 'd'"
     ]
    }
   ],
   "source": [
    "d1 = {'a': 1, 'b': 2, 'c': 3}\n",
    "# 字典的删除\n",
    "del d1['a']\n",
    "print(d1)\n",
    "del d1['d']\n",
    "# KeyError: 'd' 键不存在会报错"
   ]
  },
  {
   "cell_type": "code",
   "execution_count": 17,
   "metadata": {},
   "outputs": [
    {
     "name": "stdout",
     "output_type": "stream",
     "text": [
      "{}\n"
     ]
    }
   ],
   "source": [
    "d1 = {'a': 1, 'b': 2, 'c': 3}\n",
    "# 字典的清空\n",
    "d1.clear()\n",
    "print(d1)"
   ]
  },
  {
   "cell_type": "code",
   "execution_count": 29,
   "metadata": {},
   "outputs": [
    {
     "name": "stdout",
     "output_type": "stream",
     "text": [
      "{'a': 1, 'b': 2, 'c': 3}\n"
     ]
    }
   ],
   "source": [
    "d1 = {'a': 1, 'b': 2, 'c': 3}\n",
    "print(str(d1))"
   ]
  },
  {
   "cell_type": "code",
   "execution_count": null,
   "metadata": {},
   "outputs": [],
   "source": [
    "d1 = {'a': 1, 'b': 2, 'c': 3}\n",
    "print('a' in d1)# 只能判断键是否存在 不能判断值是否存在"
   ]
  },
  {
   "cell_type": "code",
   "execution_count": 32,
   "metadata": {},
   "outputs": [
    {
     "name": "stdout",
     "output_type": "stream",
     "text": [
      "dict_keys(['a', 'b', 'c'])\n",
      "dict_values([1, 2, 3])\n"
     ]
    }
   ],
   "source": [
    "d1 = {'a': 1, 'b': 2, 'c': 3}\n",
    "print(d1.keys())\n",
    "print(d1.values())"
   ]
  },
  {
   "cell_type": "code",
   "execution_count": 34,
   "metadata": {},
   "outputs": [
    {
     "name": "stdout",
     "output_type": "stream",
     "text": [
      "a 1\n",
      "b 2\n",
      "c 3\n"
     ]
    }
   ],
   "source": [
    "d1 = {\n",
    "    'a': 1, \n",
    "    'b': 2, \n",
    "    'c': 3\n",
    "    }\n",
    "# 字典的遍历\n",
    "for key in d1:\n",
    "    print(key, d1[key])"
   ]
  },
  {
   "cell_type": "code",
   "execution_count": 47,
   "metadata": {},
   "outputs": [
    {
     "name": "stdout",
     "output_type": "stream",
     "text": [
      "/n \n",
      "\n"
     ]
    }
   ],
   "source": [
    "print('/n \\n')"
   ]
  },
  {
   "cell_type": "code",
   "execution_count": 35,
   "metadata": {},
   "outputs": [
    {
     "name": "stdout",
     "output_type": "stream",
     "text": [
      "[1, 2, 3]\n",
      "[4, 5, 6]\n",
      "[7, 8, 9]\n",
      "45\n"
     ]
    }
   ],
   "source": [
    "a = [[1, 2, 3], [4, 5, 6], [7, 8, 9]]\n",
    "s = 0\n",
    "for c in a:\n",
    "    print(c)\n",
    "    for j in range(3):\n",
    "        s += c[j]\n",
    "print(s)"
   ]
  },
  {
   "cell_type": "code",
   "execution_count": null,
   "metadata": {},
   "outputs": [],
   "source": [
    "# range()函数\n",
    "# range()函数可以生成一个整数序列。\n",
    "# range()函数可以指定序列的起始值、终止值和步长。\n",
    "# range()函数的三个参数：起始值、终止值和步长。\n",
    "# range()函数的两个参数：起始值和终止值。\n",
    "# range()函数的一个参数：终止值。\n",
    "# range()函数的三个参数都是整数，且终止值不包含在序列中。\n",
    "range(1, 10, 2)\n",
    "# 1 3 5 7 9\n",
    "range(1, 10)\n",
    "# 1 2 3 4 5 6 7 8 9\n",
    "range(10)\n",
    "# 0 1 2 3 4 5 6 7 8 9"
   ]
  },
  {
   "cell_type": "code",
   "execution_count": 39,
   "metadata": {},
   "outputs": [
    {
     "name": "stdout",
     "output_type": "stream",
     "text": [
      "[1, 2]\n",
      "[1, 2, 3]\n",
      "[1, 2, 3, 1, 2, 3]\n"
     ]
    }
   ],
   "source": [
    "li = [1, 2]\n",
    "print(li)\n",
    "li.append(3)\n",
    "print(li)\n",
    "# li.add(4)\n",
    "li2 =[1, 2, 3]\n",
    "li.extend(li2)\n",
    "print(li)"
   ]
  },
  {
   "cell_type": "code",
   "execution_count": 44,
   "metadata": {},
   "outputs": [
    {
     "name": "stdout",
     "output_type": "stream",
     "text": [
      "2\n"
     ]
    }
   ],
   "source": [
    "x = 1\n",
    "def my():\n",
    "    global x\n",
    "    x = 2\n",
    "my()\n",
    "print(x)"
   ]
  },
  {
   "cell_type": "code",
   "execution_count": 45,
   "metadata": {},
   "outputs": [
    {
     "name": "stdout",
     "output_type": "stream",
     "text": [
      "False\n"
     ]
    }
   ],
   "source": [
    "print(not 1 and 1)"
   ]
  }
 ],
 "metadata": {
  "kernelspec": {
   "display_name": "Python 3",
   "language": "python",
   "name": "python3"
  },
  "language_info": {
   "codemirror_mode": {
    "name": "ipython",
    "version": 3
   },
   "file_extension": ".py",
   "mimetype": "text/x-python",
   "name": "python",
   "nbconvert_exporter": "python",
   "pygments_lexer": "ipython3",
   "version": "3.9.1"
  },
  "orig_nbformat": 4
 },
 "nbformat": 4,
 "nbformat_minor": 2
}
