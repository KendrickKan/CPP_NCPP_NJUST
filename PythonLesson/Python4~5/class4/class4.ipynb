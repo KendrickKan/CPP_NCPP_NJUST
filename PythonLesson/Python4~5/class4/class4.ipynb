{
 "cells": [
  {
   "cell_type": "code",
   "execution_count": 9,
   "metadata": {},
   "outputs": [
    {
     "name": "stdout",
     "output_type": "stream",
     "text": [
      "62 81 76 21\n",
      "81\n"
     ]
    }
   ],
   "source": [
    "# 随机生成4个 1-100的整数 输出最大值\n",
    "import random\n",
    "\n",
    "a = random.randint(1, 100)\n",
    "b = random.randint(1, 100)\n",
    "c = random.randint(1, 100)\n",
    "d = random.randint(1, 100)\n",
    "print(a, b, c, d)\n",
    "maxnum = a\n",
    "if maxnum < b:\n",
    "    maxnum = b\n",
    "if maxnum < c:\n",
    "    maxnum = c\n",
    "if maxnum < d:\n",
    "    maxnum = d\n",
    "print(maxnum)"
   ]
  },
  {
   "cell_type": "code",
   "execution_count": 12,
   "metadata": {},
   "outputs": [
    {
     "name": "stdout",
     "output_type": "stream",
     "text": [
      "1\n",
      "2\n",
      "3\n",
      "4\n",
      "5\n",
      "6\n",
      "7\n",
      "8\n",
      "9\n",
      "10\n",
      "11\n",
      "12\n",
      "13\n",
      "14\n",
      "15\n",
      "16\n",
      "17\n",
      "18\n",
      "19\n",
      "20\n"
     ]
    }
   ],
   "source": [
    "for i in range(1,21):\n",
    "    print(i)"
   ]
  },
  {
   "cell_type": "code",
   "execution_count": 24,
   "metadata": {},
   "outputs": [
    {
     "name": "stdout",
     "output_type": "stream",
     "text": [
      "1 2 3 4 5 \n",
      "6 7 8 9 10 \n",
      "11 12 13 14 15 \n",
      "16 17 18 19 20 \n"
     ]
    }
   ],
   "source": [
    "a = [1, 2, 3, 4, 5, 6, 7, 8, 9, 10, 11, 12, 13, 14, 15, 16, 17, 18, 19, 20]\n",
    "for i in range(1,21):\n",
    "    print(a[i-1],end=' ')\n",
    "    if i % 5 == 0:\n",
    "        print()"
   ]
  },
  {
   "cell_type": "code",
   "execution_count": 28,
   "metadata": {},
   "outputs": [
    {
     "name": "stdout",
     "output_type": "stream",
     "text": [
      "range(0, 4)\n"
     ]
    }
   ],
   "source": [
    "# for 序列里的东西 in 序列\n",
    "#  range(1,21) 生成1-20的整数序列\n",
    "# for i in range(1,21):\n",
    "#     print(i)\n",
    "# a=[1,'a','acv',3.14]\n",
    "# for i in a:\n",
    "#     print(i)\n",
    "# for i in range(4):\n",
    "#     print(a[i])\n",
    "# print(range(4))"
   ]
  },
  {
   "cell_type": "code",
   "execution_count": 34,
   "metadata": {},
   "outputs": [
    {
     "name": "stdout",
     "output_type": "stream",
     "text": [
      "hello world1!\n",
      "the number of dog is 5\n"
     ]
    }
   ],
   "source": [
    "x = 1\n",
    "print('hello world{}!'.format(x))\n",
    "print('the number of {} is {}'.format('dog',5))"
   ]
  }
 ],
 "metadata": {
  "kernelspec": {
   "display_name": "Python 3",
   "language": "python",
   "name": "python3"
  },
  "language_info": {
   "codemirror_mode": {
    "name": "ipython",
    "version": 3
   },
   "file_extension": ".py",
   "mimetype": "text/x-python",
   "name": "python",
   "nbconvert_exporter": "python",
   "pygments_lexer": "ipython3",
   "version": "3.9.1"
  },
  "orig_nbformat": 4
 },
 "nbformat": 4,
 "nbformat_minor": 2
}
