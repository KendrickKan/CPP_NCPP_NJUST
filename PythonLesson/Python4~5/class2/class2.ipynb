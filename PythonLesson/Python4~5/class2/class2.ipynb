{
 "cells": [
  {
   "cell_type": "code",
   "execution_count": 6,
   "metadata": {},
   "outputs": [
    {
     "name": "stdout",
     "output_type": "stream",
     "text": [
      "Hello World!\n"
     ]
    }
   ],
   "source": [
    "print('Hello World!')"
   ]
  },
  {
   "cell_type": "code",
   "execution_count": 1,
   "metadata": {},
   "outputs": [],
   "source": [
    "import turtle\n",
    "turtle.screensize(900,700)\n",
    "turtle.setup(800, 600)\n",
    "turtle.pensize(5)\n",
    "turtle.pencolor('red')"
   ]
  },
  {
   "cell_type": "code",
   "execution_count": 2,
   "metadata": {},
   "outputs": [],
   "source": [
    "turtle.shape('turtle')"
   ]
  },
  {
   "cell_type": "code",
   "execution_count": 15,
   "metadata": {},
   "outputs": [],
   "source": [
    "turtle.Screen().colormode(255)\n",
    "turtle.pencolor((255,0,0))\n",
    "turtle.forward(100)\n",
    "turtle.left(90)\n",
    "for i in range(0,10):\n",
    "    turtle.forward(100)\n",
    "    turtle.left(90)\n",
    "    turtle.forward(200)\n",
    "    turtle.left(90)\n",
    "    turtle.forward(200)\n",
    "    turtle.left(90)\n",
    "    turtle.forward(200)\n",
    "    turtle.left(90)\n",
    "    turtle.forward(100)\n",
    "turtle.left(90)\n",
    "turtle.forward(100)\n",
    "turtle.exitonclick()"
   ]
  },
  {
   "cell_type": "code",
   "execution_count": 26,
   "metadata": {},
   "outputs": [],
   "source": [
    "turtle.fillcolor('red')\n",
    "turtle.fd(100)\n",
    "turtle.seth(120)\n",
    "turtle.fd(200)\n",
    "turtle.seth(240)\n",
    "turtle.fd(200)\n",
    "turtle.seth(360)\n",
    "turtle.fd(100)\n",
    "turtle.exitonclick()"
   ]
  }
 ],
 "metadata": {
  "kernelspec": {
   "display_name": "Python 3",
   "language": "python",
   "name": "python3"
  },
  "language_info": {
   "codemirror_mode": {
    "name": "ipython",
    "version": 3
   },
   "file_extension": ".py",
   "mimetype": "text/x-python",
   "name": "python",
   "nbconvert_exporter": "python",
   "pygments_lexer": "ipython3",
   "version": "3.9.1"
  },
  "orig_nbformat": 4
 },
 "nbformat": 4,
 "nbformat_minor": 2
}
