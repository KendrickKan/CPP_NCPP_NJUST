{
 "cells": [
  {
   "cell_type": "code",
   "execution_count": 2,
   "metadata": {},
   "outputs": [
    {
     "name": "stdout",
     "output_type": "stream",
     "text": [
      "<class 'tuple'>\n"
     ]
    }
   ],
   "source": [
    "a=(1,)\n",
    "print(type(a))"
   ]
  },
  {
   "cell_type": "code",
   "execution_count": 6,
   "metadata": {},
   "outputs": [
    {
     "name": "stdout",
     "output_type": "stream",
     "text": [
      "<class 'tuple'>\n",
      "1\n",
      "5\n",
      "(1, 2, 3, 4, 5, 1, 2, 3, 4, 5)\n"
     ]
    }
   ],
   "source": [
    "b=(1,2,3,4,5)\n",
    "print(type(b))\n",
    "print(b[0])\n",
    "print(b[-1])\n",
    "print(b*2)"
   ]
  },
  {
   "cell_type": "code",
   "execution_count": 13,
   "metadata": {},
   "outputs": [
    {
     "name": "stdout",
     "output_type": "stream",
     "text": [
      "<class 'set'>\n",
      "<class 'set'>\n",
      "{1, 'A', 3, 'B'}\n",
      "{'d'}\n",
      "<class 'set'>\n",
      "<class 'set'>\n",
      "{'d', 1, 'B', 3, 4, 'A'}\n",
      "set()\n",
      "{1, 3, 4, 'A', 'B'}\n",
      "{'d', 1, 3, 4, 'A', 'B'}\n"
     ]
    },
    {
     "data": {
      "text/plain": [
       "<function set.pop>"
      ]
     },
     "execution_count": 13,
     "metadata": {},
     "output_type": "execute_result"
    }
   ],
   "source": [
    "c=set()\n",
    "d=set()\n",
    "print(type(c))\n",
    "print(type(d))\n",
    "c.add(1)\n",
    "c.add(3)\n",
    "c.add('A')\n",
    "c.add('B')\n",
    "print(c)\n",
    "d.add('d')\n",
    "c.add('A')\n",
    "c.add(1)\n",
    "c.add(4)\n",
    "print(d)\n",
    "print(type(c))\n",
    "print(type(d))\n",
    "print(c | d)\n",
    "print(c & d)\n",
    "print(c-d)\n",
    "print(c ^ d)\n",
    "c.remove('A')\n",
    "d.pop\n"
   ]
  }
 ],
 "metadata": {
  "kernelspec": {
   "display_name": "Python 3",
   "language": "python",
   "name": "python3"
  },
  "language_info": {
   "codemirror_mode": {
    "name": "ipython",
    "version": 3
   },
   "file_extension": ".py",
   "mimetype": "text/x-python",
   "name": "python",
   "nbconvert_exporter": "python",
   "pygments_lexer": "ipython3",
   "version": "3.9.1"
  },
  "orig_nbformat": 4
 },
 "nbformat": 4,
 "nbformat_minor": 2
}
