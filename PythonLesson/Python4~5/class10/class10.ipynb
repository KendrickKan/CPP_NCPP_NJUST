{
 "cells": [
  {
   "cell_type": "code",
   "execution_count": null,
   "metadata": {},
   "outputs": [],
   "source": [
    "# 3.编写函数能分别统计字符串中英文字母、空格、数字和其他字符的个数，\n",
    "# 自定义字符串变量 s=’he11oWord! 我 爱 编程，调用函数并输出统计结果。(题共 15 分)"
   ]
  },
  {
   "cell_type": "code",
   "execution_count": 3,
   "metadata": {},
   "outputs": [
    {
     "name": "stdout",
     "output_type": "stream",
     "text": [
      "9 3 3 5\n"
     ]
    }
   ],
   "source": [
    "a, b, c, d = 0, 0, 0, 0\n",
    "s = 'helloWord! 我123 爱 编程'\n",
    "for i in s:\n",
    "    if i.isalpha():\n",
    "        if (i >= 'a' and i <= 'z') or (i >= 'A' and i <= 'Z'):\n",
    "            a += 1\n",
    "        else:\n",
    "            d += 1\n",
    "        continue\n",
    "    elif i.isspace():\n",
    "        b += 1\n",
    "        continue\n",
    "    # elif i.isdigit():\n",
    "    elif i >= '0' and i <= '9':\n",
    "        c += 1\n",
    "        continue\n",
    "    else:\n",
    "        d += 1\n",
    "print(a, b, c, d)"
   ]
  },
  {
   "cell_type": "code",
   "execution_count": null,
   "metadata": {},
   "outputs": [],
   "source": [
    "# Python是一门面向对象的语言，面向对象的三大特性是封装、继承和多态。\n",
    "# 简述面向对象的三大特性。\n",
    "# 封装：将数据和对数据的操作封装在一起，数据被保护在内部，外部只能通过接口访问。\n",
    "# 继承：子类继承父类的属性和方法，子类可以重写父类的方法。\n",
    "# 多态：同一种事物的多种形态，不同的子类对象调用相同的父类方法，产生不同的执行结果。"
   ]
  },
  {
   "cell_type": "code",
   "execution_count": null,
   "metadata": {},
   "outputs": [],
   "source": [
    "# 类 Class：是具有相同 属性 和 方法 的对象的集合。\n",
    "# 属性：类中的变量，用于描述类中的特征。\n",
    "# 方法：类中的函数，用于描述类中的行为。\n",
    "\n",
    "# class ClassName:\n",
    "    # 属性\n",
    "    # 方法"
   ]
  },
  {
   "cell_type": "code",
   "execution_count": 6,
   "metadata": {},
   "outputs": [
    {
     "name": "stdout",
     "output_type": "stream",
     "text": [
      "Hello World!\n",
      "MyClassName\n"
     ]
    }
   ],
   "source": [
    "class MyClass:\n",
    "    # 属性\n",
    "    name = 'MyClassName'\n",
    "\n",
    "    # 方法\n",
    "    def say():\n",
    "        print('Hello World!')\n",
    "\n",
    "\n",
    "# 直接调用类的属性和方法\n",
    "MyClass.say()\n",
    "print(MyClass.name)"
   ]
  },
  {
   "cell_type": "code",
   "execution_count": 8,
   "metadata": {},
   "outputs": [
    {
     "name": "stdout",
     "output_type": "stream",
     "text": [
      "MyClassName\n",
      "MyClassName2\n"
     ]
    }
   ],
   "source": [
    "class MyClass:\n",
    "    # 属性\n",
    "    name = 'MyClassName'\n",
    "\n",
    "    # 方法\n",
    "    def say():\n",
    "        print('Hello World!')\n",
    "\n",
    "\n",
    "# 通过类创建对象,类的实例化\n",
    "# 语法：对象名 = 类名()\n",
    "myclass1 = MyClass()\n",
    "myclass2 = MyClass()\n",
    "myclass2.name = 'MyClassName2'\n",
    "print(myclass1.name)\n",
    "print(myclass2.name)"
   ]
  },
  {
   "cell_type": "code",
   "execution_count": 22,
   "metadata": {},
   "outputs": [
    {
     "name": "stdout",
     "output_type": "stream",
     "text": [
      "18\n",
      "私有方法\n"
     ]
    }
   ],
   "source": [
    "class MyClass:\n",
    "    # 属性\n",
    "    name = 'MyClassName'\n",
    "    # 定义一个私有属性\n",
    "    # 私有属性在类外部无法直接进行访问\n",
    "    # 私有属性在属性名前面加上两个下划线\n",
    "    __age = 18\n",
    "\n",
    "    # 方法\n",
    "    def say():\n",
    "        print('Hello World!')\n",
    "\n",
    "    # 定义通过方法访问私有属性的方法\n",
    "    def getAge(self):\n",
    "        return self.__age\n",
    "\n",
    "    # 定义私有方法\n",
    "    def __siyoufangfa(self):\n",
    "        print('私有方法')\n",
    "\n",
    "    def getSiyoufafang(self):\n",
    "        self.__siyoufangfa()\n",
    "\n",
    "\n",
    "myclass = MyClass()\n",
    "print(myclass.getAge())\n",
    "myclass.getSiyoufafang()"
   ]
  },
  {
   "cell_type": "code",
   "execution_count": 26,
   "metadata": {},
   "outputs": [
    {
     "name": "stdout",
     "output_type": "stream",
     "text": [
      "MyClass\n",
      "子类重写父类的方法\n",
      "MyClass 18\n",
      "XX\n"
     ]
    }
   ],
   "source": [
    "# 继承\n",
    "# 语法：class 子类名(父类名):\n",
    "# 子类继承父类的属性和方法\n",
    "# 子类可以重写父类的方法\n",
    "# 子类可以定义自己的属性和方法\n",
    "class MyClass:\n",
    "    name = \"MyClass\"\n",
    "\n",
    "    def say(self):\n",
    "        print(self.name)\n",
    "\n",
    "class MyClassParent2:\n",
    "    x = \"x\"\n",
    "\n",
    "    def sayx(self):\n",
    "        print('XX')\n",
    "\n",
    "# 多继承\n",
    "class MyClass2(MyClass,MyClassParent2):\n",
    "    age = 18\n",
    "\n",
    "    def say2(self):\n",
    "        print(self.name, self.age)\n",
    "    \n",
    "    def say(self):\n",
    "        print('子类重写父类的方法')\n",
    "\n",
    "myclass = MyClass()\n",
    "myclass2 = MyClass2()\n",
    "myclass.say()\n",
    "myclass2.say()\n",
    "myclass2.say2()\n",
    "myclass2.sayx()"
   ]
  },
  {
   "cell_type": "code",
   "execution_count": 27,
   "metadata": {},
   "outputs": [
    {
     "name": "stdout",
     "output_type": "stream",
     "text": [
      "ChildClass1\n",
      "ChildClass2\n"
     ]
    }
   ],
   "source": [
    "# 多态\n",
    "class ParentClass:\n",
    "\n",
    "    def say(self):\n",
    "        print('ParentClass')\n",
    "\n",
    "\n",
    "class ChildClass1(ParentClass):\n",
    "\n",
    "    def say(self):\n",
    "        print('ChildClass1')\n",
    "\n",
    "\n",
    "class ChildClass2(ParentClass):\n",
    "\n",
    "    def say(self):\n",
    "        print('ChildClass2')\n",
    "class1 = ChildClass1()\n",
    "class2 = ChildClass2()\n",
    "class1.say()\n",
    "class2.say()"
   ]
  },
  {
   "cell_type": "code",
   "execution_count": 40,
   "metadata": {},
   "outputs": [
    {
     "name": "stdout",
     "output_type": "stream",
     "text": [
      "It is a txt file 2.\n"
     ]
    }
   ],
   "source": [
    "# Python 文件操作\n",
    "# 文件操作的步骤\n",
    "# 1.打开文件\n",
    "# 2.读写文件\n",
    "# 3.关闭文件\n",
    "\n",
    "# 文件的打开\n",
    "# 语法：open(文件路径,打开方式)\n",
    "# 文件路径：文件的路径\n",
    "file1 = open('test.txt')\n",
    "# print(file1)\n",
    "# 读取文件\n",
    "# 语法：文件对象.read()\n",
    "# 读取文件中的所有内容\n",
    "# print(file1.read())\n",
    "# 读取文件中的一行内容\n",
    "# print(file1.readline())\n",
    "# print(file1.readline())\n",
    "# 读取文件中的所有行\n",
    "# print(file1.readlines()) #返回一个列表\n",
    "x = file1.readlines()\n",
    "print(x[1])\n",
    "file1.close()"
   ]
  },
  {
   "cell_type": "code",
   "execution_count": 43,
   "metadata": {},
   "outputs": [],
   "source": [
    "# 文件的打开方式\n",
    "# r：只读方式打开文件，文件的指针会放在文件的开头，如果文件不存在会报错\n",
    "# w：只写方式打开文件，如果文件不存在会创建文件，如果文件存在会清空文件中的内容\n",
    "# a：追加方式打开文件，如果文件不存在会创建文件，如果文件存在会在文件的末尾追加内容\n",
    "# open(文件路径,打开方式)\n",
    "file = open('test.txt', 'w')\n",
    "file.write('Hello World!')\n",
    "file.close()"
   ]
  },
  {
   "cell_type": "code",
   "execution_count": 45,
   "metadata": {},
   "outputs": [
    {
     "name": "stdout",
     "output_type": "stream",
     "text": [
      "2\n",
      "2\n"
     ]
    }
   ],
   "source": [
    "# 匿名函数 一种没有名字的函数 称为匿名函数 lambda函数 不使用def关键字定义函数\n",
    "# 语法：lambda 参数列表:表达式\n",
    "def add(x, y):\n",
    "    return x + y\n",
    "\n",
    "\n",
    "print(add(1, 1))\n",
    "\n",
    "# 匿名函数\n",
    "add1 = lambda x, y: x + y\n",
    "print(add1(1, 1))"
   ]
  }
 ],
 "metadata": {
  "kernelspec": {
   "display_name": "Python 3",
   "language": "python",
   "name": "python3"
  },
  "language_info": {
   "codemirror_mode": {
    "name": "ipython",
    "version": 3
   },
   "file_extension": ".py",
   "mimetype": "text/x-python",
   "name": "python",
   "nbconvert_exporter": "python",
   "pygments_lexer": "ipython3",
   "version": "3.9.1"
  },
  "orig_nbformat": 4
 },
 "nbformat": 4,
 "nbformat_minor": 2
}
