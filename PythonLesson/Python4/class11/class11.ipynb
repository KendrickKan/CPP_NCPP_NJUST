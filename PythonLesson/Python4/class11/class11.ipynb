{
 "cells": [
  {
   "cell_type": "code",
   "execution_count": 5,
   "metadata": {},
   "outputs": [
    {
     "name": "stdout",
     "output_type": "stream",
     "text": [
      "test\n",
      "1\n",
      "2\n",
      "1 1\n",
      "1.0 1\n"
     ]
    }
   ],
   "source": [
    "print(\"test\")\n",
    "a = 1\n",
    "print(a)\n",
    "a += 1\n",
    "print(a)\n",
    "x = y = 1\n",
    "print(x, y)\n",
    "x = 3\n",
    "x /= 3\n",
    "print(x, y)"
   ]
  },
  {
   "cell_type": "code",
   "execution_count": 10,
   "metadata": {},
   "outputs": [
    {
     "name": "stdout",
     "output_type": "stream",
     "text": [
      "[['a', 'c', '5', '2', '*']]\n",
      "c\n",
      "c\n"
     ]
    }
   ],
   "source": [
    "lista = ['a', 'c', '5', '2', '*']\n",
    "li = [lista]\n",
    "print(li)\n",
    "print(lista[1])\n",
    "print(li[0][1])"
   ]
  },
  {
   "cell_type": "code",
   "execution_count": 11,
   "metadata": {},
   "outputs": [
    {
     "name": "stdout",
     "output_type": "stream",
     "text": [
      "True\n"
     ]
    }
   ],
   "source": [
    "print(not '')"
   ]
  },
  {
   "cell_type": "code",
   "execution_count": 18,
   "metadata": {},
   "outputs": [
    {
     "name": "stdout",
     "output_type": "stream",
     "text": [
      "0\n",
      "1\n"
     ]
    }
   ],
   "source": [
    "listll=[2,3,4,2,3,4]\n",
    "print(listll.index(2))\n",
    "print(listll.index(3))\n",
    "# print(listll.index(5))"
   ]
  },
  {
   "cell_type": "code",
   "execution_count": 20,
   "metadata": {},
   "outputs": [
    {
     "name": "stdout",
     "output_type": "stream",
     "text": [
      "[2, 3, 4, 2, 3, 4]\n",
      "[2, 3, 5, 4, 2, 3, 4]\n"
     ]
    }
   ],
   "source": [
    "# list.insert(index, obj) 在下表index处插入obj\n",
    "print(listll)\n",
    "listll.insert(2, 5)\n",
    "print(listll)"
   ]
  },
  {
   "cell_type": "code",
   "execution_count": 27,
   "metadata": {},
   "outputs": [
    {
     "name": "stdout",
     "output_type": "stream",
     "text": [
      "[2, 3, 4, 2, 3]\n",
      "[2, 3, 2, 3]\n"
     ]
    }
   ],
   "source": [
    "print(listll)\n",
    "# listll.pop()\n",
    "# print(listll)\n",
    "# list.pop() 移除列表中的一个元素（默认最后一个元素），并且返回该元素的值\n",
    "listll.pop(2) # 移除下标index为2的元素\n",
    "print(listll)"
   ]
  },
  {
   "cell_type": "code",
   "execution_count": 32,
   "metadata": {},
   "outputs": [
    {
     "name": "stdout",
     "output_type": "stream",
     "text": [
      "[2, 2, 3]\n",
      "[2, 2]\n"
     ]
    }
   ],
   "source": [
    "print(listll)\n",
    "# list.remove(obj) 移除列表中某个值的第一个匹配项\n",
    "listll.remove(3)\n",
    "print(listll)\n",
    "# listll.remove(5) # 不存在的元素会报错"
   ]
  },
  {
   "cell_type": "code",
   "execution_count": 34,
   "metadata": {},
   "outputs": [
    {
     "name": "stdout",
     "output_type": "stream",
     "text": [
      "[2, 2]\n",
      "[2, 2, 5, 6, 'a']\n"
     ]
    }
   ],
   "source": [
    "print(listll)\n",
    "listll.append(5)\n",
    "listll.append(6)\n",
    "listll.append('a')\n",
    "print(listll)"
   ]
  },
  {
   "cell_type": "code",
   "execution_count": 35,
   "metadata": {},
   "outputs": [
    {
     "name": "stdout",
     "output_type": "stream",
     "text": [
      "['a', 6, 5, 2, 2]\n"
     ]
    }
   ],
   "source": [
    "# list.reverse() 反向列表中元素\n",
    "listll.reverse()\n",
    "print(listll)"
   ]
  },
  {
   "cell_type": "code",
   "execution_count": null,
   "metadata": {},
   "outputs": [],
   "source": [
    "# 2 3 5 7 11 13 17 19 23 29 31 37 41 43 47 53 59 61 67 71 73 79 83 89 97\n",
    "90 45 15 5 1\n",
    "2*3*3*5"
   ]
  },
  {
   "cell_type": "code",
   "execution_count": 36,
   "metadata": {},
   "outputs": [
    {
     "name": "stdout",
     "output_type": "stream",
     "text": [
      "1\n"
     ]
    }
   ],
   "source": [
    "a = 1\n",
    "b = True\n",
    "print(a * b)\n"
   ]
  },
  {
   "cell_type": "code",
   "execution_count": 39,
   "metadata": {},
   "outputs": [
    {
     "name": "stdout",
     "output_type": "stream",
     "text": [
      "False\n"
     ]
    }
   ],
   "source": [
    "y = 2\n",
    "x = (y == 1)\n",
    "print(x)"
   ]
  },
  {
   "cell_type": "code",
   "execution_count": null,
   "metadata": {},
   "outputs": [],
   "source": [
    "x = False\n",
    "y = True\n",
    "z = True\n",
    "print(x and y or z)"
   ]
  },
  {
   "cell_type": "code",
   "execution_count": 40,
   "metadata": {},
   "outputs": [
    {
     "name": "stdout",
     "output_type": "stream",
     "text": [
      "['1']\n"
     ]
    }
   ],
   "source": [
    "listx = [\"1\",]\n",
    "print(listx)"
   ]
  },
  {
   "cell_type": "code",
   "execution_count": 41,
   "metadata": {},
   "outputs": [
    {
     "name": "stdout",
     "output_type": "stream",
     "text": [
      "123456789123456789\n"
     ]
    }
   ],
   "source": [
    "str=\"123456789\"\n",
    "print(str*2)"
   ]
  },
  {
   "cell_type": "code",
   "execution_count": 42,
   "metadata": {},
   "outputs": [
    {
     "name": "stdout",
     "output_type": "stream",
     "text": [
      "8\n"
     ]
    }
   ],
   "source": [
    "print(2**3)"
   ]
  },
  {
   "cell_type": "code",
   "execution_count": 43,
   "metadata": {},
   "outputs": [
    {
     "name": "stdout",
     "output_type": "stream",
     "text": [
      "[1, 2, 3, 4, 5, 6, 7, 8, 9]\n",
      "[[1, 2, 3, 4, 5, 6, 7, 8, 9]]\n"
     ]
    }
   ],
   "source": [
    "list11 = [1,2,3,4,5,6,7,8,9]\n",
    "list22 = [list11]\n",
    "print(list11)\n",
    "print(list22)"
   ]
  },
  {
   "cell_type": "code",
   "execution_count": 45,
   "metadata": {},
   "outputs": [
    {
     "name": "stdout",
     "output_type": "stream",
     "text": [
      "5\n",
      "5\n"
     ]
    }
   ],
   "source": [
    "# 输出5\n",
    "print(list11[4])\n",
    "print(list22[0][4])\n",
    "list22.append(5)"
   ]
  },
  {
   "cell_type": "code",
   "execution_count": 46,
   "metadata": {},
   "outputs": [
    {
     "name": "stdout",
     "output_type": "stream",
     "text": [
      "[1, 2, 3, 4, 5, 6, 7, 8, 9]\n",
      "[[1, 2, 3, 4, 5, 6, 7, 8, 9], 5]\n"
     ]
    }
   ],
   "source": [
    "print(list11)\n",
    "print(list22)"
   ]
  },
  {
   "cell_type": "code",
   "execution_count": 50,
   "metadata": {},
   "outputs": [
    {
     "name": "stdout",
     "output_type": "stream",
     "text": [
      "4\n",
      "[2, 3, 4]\n",
      "3\n"
     ]
    }
   ],
   "source": [
    "list33 = [2, [2, 2], 'a', [2, 3, 4]]\n",
    "print(len(list33))\n",
    "print(list33[3])\n",
    "print(list33[3][1])"
   ]
  },
  {
   "cell_type": "code",
   "execution_count": 51,
   "metadata": {},
   "outputs": [
    {
     "name": "stdout",
     "output_type": "stream",
     "text": [
      "b\n"
     ]
    }
   ],
   "source": [
    "list4 = [2, [2, 2], 'a', [2, 3, ['a', 'b'], 4]]\n",
    "print(list4[3][2][1])"
   ]
  },
  {
   "cell_type": "code",
   "execution_count": 52,
   "metadata": {},
   "outputs": [
    {
     "ename": "SyntaxError",
     "evalue": "invalid syntax (2053516902.py, line 1)",
     "output_type": "error",
     "traceback": [
      "\u001b[1;36m  Cell \u001b[1;32mIn [52], line 1\u001b[1;36m\u001b[0m\n\u001b[1;33m    1000 11\u001b[0m\n\u001b[1;37m         ^\u001b[0m\n\u001b[1;31mSyntaxError\u001b[0m\u001b[1;31m:\u001b[0m invalid syntax\n"
     ]
    }
   ],
   "source": [
    "# 1000 11\n",
    "# 每超过500克，加5元\n",
    "# 980 11\n",
    "# 1000 11\n",
    "\n",
    "\n",
    "# 1001 16 1001-1000=1   取上整(1/500)=1   11+1*5=16\n",
    "# 1500 16 1500-1000=500 取上整(500/500)=1 11+1*5=16\n",
    "# 1501 21 1501-1000=501 取上整(501/500)=2 11+2*5=21"
   ]
  }
 ],
 "metadata": {
  "kernelspec": {
   "display_name": "Python 3.9.1 64-bit",
   "language": "python",
   "name": "python3"
  },
  "language_info": {
   "codemirror_mode": {
    "name": "ipython",
    "version": 3
   },
   "file_extension": ".py",
   "mimetype": "text/x-python",
   "name": "python",
   "nbconvert_exporter": "python",
   "pygments_lexer": "ipython3",
   "version": "3.9.1"
  },
  "orig_nbformat": 4,
  "vscode": {
   "interpreter": {
    "hash": "3dbef6ad0a9307bf9d04ec793fbab83c611eccdc7d8296d34afeff18d9f8d7aa"
   }
  }
 },
 "nbformat": 4,
 "nbformat_minor": 2
}
