{
 "cells": [
  {
   "cell_type": "code",
   "execution_count": 1,
   "metadata": {},
   "outputs": [
    {
     "name": "stdout",
     "output_type": "stream",
     "text": [
      "Class 12\n"
     ]
    }
   ],
   "source": [
    "print(\"Class 12\")"
   ]
  },
  {
   "cell_type": "code",
   "execution_count": null,
   "metadata": {},
   "outputs": [],
   "source": [
    "# 1000 11\n",
    "# 每超过500克，加5元\n",
    "\n",
    "\n",
    "# 980 11\n",
    "# 1000 11\n",
    "\n",
    "\n",
    "# 1001 16    1001-1000=1   取上整(1/500)=1   11+1*5=16\n",
    "# 1500 16    1500-1000=500 取上整(500/500)=1 11+1*5=16\n",
    "# 1501 21    1501-1000=501 取上整(501/500)=2 11+2*5=21"
   ]
  },
  {
   "cell_type": "code",
   "execution_count": 4,
   "metadata": {},
   "outputs": [
    {
     "name": "stdout",
     "output_type": "stream",
     "text": [
      "1\n",
      "1\n",
      "2\n"
     ]
    }
   ],
   "source": [
    "import math\n",
    "print(math.ceil(1/500))\n",
    "print(math.ceil(500/500))\n",
    "print(math.ceil(501/500))"
   ]
  },
  {
   "cell_type": "code",
   "execution_count": 9,
   "metadata": {},
   "outputs": [
    {
     "name": "stdout",
     "output_type": "stream",
     "text": [
      "21\n"
     ]
    }
   ],
   "source": [
    "# 判断 <=1000   >1000\n",
    "kg = int(input(\"请输入重量：\"))\n",
    "if (kg <= 1000):\n",
    "    print(11)\n",
    "else:\n",
    "    print(11 + math.ceil((kg-1000)/500)*5)"
   ]
  },
  {
   "cell_type": "code",
   "execution_count": 11,
   "metadata": {},
   "outputs": [
    {
     "name": "stdout",
     "output_type": "stream",
     "text": [
      "60\n"
     ]
    }
   ],
   "source": [
    "def snajiaoxing(a, b):\n",
    "    return 180 - a - b\n",
    "\n",
    "\n",
    "a = int(input(\"请输入第一个角：\"))\n",
    "b = int(input(\"请输入第二个角：\"))\n",
    "print(snajiaoxing(a, b))\n"
   ]
  },
  {
   "cell_type": "code",
   "execution_count": 12,
   "metadata": {},
   "outputs": [
    {
     "name": "stdout",
     "output_type": "stream",
     "text": [
      "4\n"
     ]
    }
   ],
   "source": [
    "x = int(input(\"请输入x：\"))\n",
    "# 6\n",
    "# 1 2 3 4 5 6\n",
    "# T T T F F T\n",
    "# 循环 for|while\n",
    "sum = 0  #因数的个数\n",
    "for i in range(1, x + 1):\n",
    "    if x % i == 0:\n",
    "        sum += 1\n",
    "print(sum)"
   ]
  },
  {
   "cell_type": "code",
   "execution_count": 13,
   "metadata": {},
   "outputs": [
    {
     "name": "stdout",
     "output_type": "stream",
     "text": [
      "4\n"
     ]
    }
   ],
   "source": [
    "x = int(input(\"请输入x：\"))\n",
    "sum = 0\n",
    "i = 1\n",
    "while i <= x:\n",
    "    if x % i == 0:\n",
    "        sum += 1\n",
    "    i += 1\n",
    "print(sum)"
   ]
  },
  {
   "cell_type": "code",
   "execution_count": null,
   "metadata": {},
   "outputs": [],
   "source": []
  },
  {
   "cell_type": "code",
   "execution_count": null,
   "metadata": {},
   "outputs": [],
   "source": [
    "# while True:\n",
    "#     print(1)\n",
    "#     break\n",
    "#     print(2)\n",
    "\n",
    "# while True:\n",
    "#     print(1)\n",
    "#     continue\n",
    "#     print(2)"
   ]
  },
  {
   "cell_type": "code",
   "execution_count": null,
   "metadata": {},
   "outputs": [],
   "source": [
    "# 1 and 1 = 1\n",
    "# 1 and 0 = 0\n",
    "# 0 and 1 = 0\n",
    "# 0 and 0 = 0\n",
    "\n",
    "# 1 or 1 = 1\n",
    "# 1 or 0 = 1\n",
    "# 0 or 1 = 1\n",
    "# 0 or 0 = 0"
   ]
  },
  {
   "cell_type": "code",
   "execution_count": 14,
   "metadata": {},
   "outputs": [],
   "source": [
    "# number 数字\n",
    "# string 字符串\n",
    "# boolean 布尔值（数）\n",
    "# list 列表 [] [1,2,3]\n",
    "# tuple 元组 () (1,2,3) 元组的元素不能修改\n",
    "# dict 字典 {} {\"name\":\"张三\",\"age\":18}\n",
    "# set 集合 {} {1,2,3} 集合的元素没有顺序，不能重复\n",
    "\n",
    "# boolean float int complex 四个基本数字类型"
   ]
  },
  {
   "cell_type": "code",
   "execution_count": 19,
   "metadata": {},
   "outputs": [
    {
     "name": "stdout",
     "output_type": "stream",
     "text": [
      "1:2:3|||"
     ]
    }
   ],
   "source": [
    "print(1, 2, 3, end=\"|||\", sep=\":\")\n",
    "# sep 分隔符\n",
    "# end 结束符"
   ]
  },
  {
   "cell_type": "code",
   "execution_count": null,
   "metadata": {},
   "outputs": [],
   "source": [
    "# i 0 1 2\n",
    "# j 0 1 2"
   ]
  },
  {
   "cell_type": "code",
   "execution_count": null,
   "metadata": {},
   "outputs": [],
   "source": [
    "# i = 0\n",
    "# j = 0 \n",
    "# i = 0\n",
    "# j = 1 \n",
    "# i = 0\n",
    "# j = 2 \n",
    "# i = 1\n",
    "# j = 0 \n",
    "# i = 1\n",
    "# j = 1  break 进行了五轮\n",
    "# i = 1\n",
    "# j = 2 \n",
    "# i = 2\n",
    "# j = 0 \n",
    "# i = 2\n",
    "# j = 1 \n",
    "# i = 2\n",
    "# j = 2 "
   ]
  },
  {
   "cell_type": "code",
   "execution_count": 20,
   "metadata": {},
   "outputs": [
    {
     "name": "stdout",
     "output_type": "stream",
     "text": [
      "500.0\n",
      "250.0\n",
      "125.0\n",
      "62.5\n",
      "31.25\n",
      "15.625\n",
      "7.8125\n",
      "3.90625\n",
      "1.953125\n",
      "0.9765625\n"
     ]
    }
   ],
   "source": [
    "k = 1000\n",
    "while k > 1:\n",
    "    k /= 2\n",
    "    print(k)"
   ]
  },
  {
   "cell_type": "code",
   "execution_count": 21,
   "metadata": {},
   "outputs": [
    {
     "name": "stdout",
     "output_type": "stream",
     "text": [
      "0\n"
     ]
    }
   ],
   "source": [
    "print(0 // 3)\n"
   ]
  },
  {
   "cell_type": "code",
   "execution_count": 22,
   "metadata": {},
   "outputs": [
    {
     "name": "stdout",
     "output_type": "stream",
     "text": [
      "0\n",
      "0\n",
      "1\n",
      "1\n"
     ]
    }
   ],
   "source": [
    "print(1 // 3)\n",
    "print(2 // 3)\n",
    "print(3 // 3)\n",
    "print(4 // 3)\n",
    "# // 取整数部分"
   ]
  },
  {
   "cell_type": "code",
   "execution_count": 25,
   "metadata": {},
   "outputs": [
    {
     "name": "stdout",
     "output_type": "stream",
     "text": [
      "0\n",
      "1\n",
      "1\n",
      "2\n"
     ]
    }
   ],
   "source": [
    "print(0 + 0)\n",
    "print(1 + 0)\n",
    "print(0 + 1)\n",
    "print(True + True)"
   ]
  },
  {
   "cell_type": "code",
   "execution_count": 29,
   "metadata": {},
   "outputs": [
    {
     "name": "stdout",
     "output_type": "stream",
     "text": [
      "2\n",
      "2\n",
      "True\n",
      "False\n"
     ]
    }
   ],
   "source": [
    "print(1 and 2)\n",
    "print(2 or 1)\n",
    "print(not 0 or 2)\n",
    "print(1 and not 2)"
   ]
  },
  {
   "cell_type": "code",
   "execution_count": 32,
   "metadata": {},
   "outputs": [
    {
     "name": "stdout",
     "output_type": "stream",
     "text": [
      "True\n",
      "False\n",
      "True\n"
     ]
    }
   ],
   "source": [
    "print(not '')\n",
    "print(4 != 3 + 2 and 5 == 3)\n",
    "print(5 > 2 + 1 or 3 < 2 * 4)\n"
   ]
  },
  {
   "cell_type": "code",
   "execution_count": 39,
   "metadata": {},
   "outputs": [
    {
     "name": "stdout",
     "output_type": "stream",
     "text": [
      "4\n"
     ]
    }
   ],
   "source": [
    "s = 0\n",
    "for j in range(5):\n",
    "    s = s + j\n",
    "    if s > 6:\n",
    "        break\n",
    "print(j)\n",
    "# j s\n",
    "# 0 0\n",
    "# 1 1\n",
    "# 2 3\n",
    "# 3 6\n",
    "# 4 10"
   ]
  },
  {
   "cell_type": "code",
   "execution_count": null,
   "metadata": {},
   "outputs": [],
   "source": [
    "# if elif else\n",
    "# if if if"
   ]
  },
  {
   "cell_type": "code",
   "execution_count": 40,
   "metadata": {},
   "outputs": [
    {
     "name": "stdout",
     "output_type": "stream",
     "text": [
      "2\n"
     ]
    }
   ],
   "source": [
    "a = 1\n",
    "if a > 0:\n",
    "    a = a + 1\n",
    "elif a > 1:\n",
    "    a = 5\n",
    "print(a)"
   ]
  },
  {
   "cell_type": "code",
   "execution_count": 41,
   "metadata": {},
   "outputs": [
    {
     "name": "stdout",
     "output_type": "stream",
     "text": [
      "aa\n",
      "aa\n",
      "aa\n",
      "aa\n",
      "aa\n",
      "aa\n"
     ]
    }
   ],
   "source": [
    "for i in range(5):\n",
    "    print('aa')\n",
    "print('aa')"
   ]
  },
  {
   "cell_type": "code",
   "execution_count": 42,
   "metadata": {},
   "outputs": [
    {
     "name": "stdout",
     "output_type": "stream",
     "text": [
      "0\n",
      "2\n"
     ]
    }
   ],
   "source": [
    "for i in range(4):\n",
    "    if i % 2 != 0:\n",
    "        continue\n",
    "    print(i)"
   ]
  },
  {
   "cell_type": "code",
   "execution_count": 45,
   "metadata": {},
   "outputs": [
    {
     "ename": "TypeError",
     "evalue": "can only concatenate str (not \"int\") to str",
     "output_type": "error",
     "traceback": [
      "\u001b[1;31m---------------------------------------------------------------------------\u001b[0m",
      "\u001b[1;31mTypeError\u001b[0m                                 Traceback (most recent call last)",
      "Cell \u001b[1;32mIn [45], line 7\u001b[0m\n\u001b[0;32m      3\u001b[0m z \u001b[39m=\u001b[39m \u001b[39mint\u001b[39m(x)\n\u001b[0;32m      4\u001b[0m \u001b[39m# x='1'\u001b[39;00m\n\u001b[0;32m      5\u001b[0m \u001b[39m# y='357'\u001b[39;00m\n\u001b[0;32m      6\u001b[0m \u001b[39m# z=1\u001b[39;00m\n\u001b[1;32m----> 7\u001b[0m \u001b[39mprint\u001b[39m(y\u001b[39m+\u001b[39;49mz)\n",
      "\u001b[1;31mTypeError\u001b[0m: can only concatenate str (not \"int\") to str"
     ]
    }
   ],
   "source": [
    "x = input()\n",
    "y = '357'\n",
    "z = int(x)\n",
    "# x='1'\n",
    "# y='357'\n",
    "# z=1\n",
    "# print(y+z)\n"
   ]
  },
  {
   "cell_type": "code",
   "execution_count": 47,
   "metadata": {},
   "outputs": [
    {
     "name": "stdout",
     "output_type": "stream",
     "text": [
      "33\n"
     ]
    }
   ],
   "source": [
    "a = '33'\n",
    "print(int(a))"
   ]
  }
 ],
 "metadata": {
  "kernelspec": {
   "display_name": "Python 3",
   "language": "python",
   "name": "python3"
  },
  "language_info": {
   "codemirror_mode": {
    "name": "ipython",
    "version": 3
   },
   "file_extension": ".py",
   "mimetype": "text/x-python",
   "name": "python",
   "nbconvert_exporter": "python",
   "pygments_lexer": "ipython3",
   "version": "3.9.1 (tags/v3.9.1:1e5d33e, Dec  7 2020, 17:08:21) [MSC v.1927 64 bit (AMD64)]"
  },
  "orig_nbformat": 4,
  "vscode": {
   "interpreter": {
    "hash": "3dbef6ad0a9307bf9d04ec793fbab83c611eccdc7d8296d34afeff18d9f8d7aa"
   }
  }
 },
 "nbformat": 4,
 "nbformat_minor": 2
}
