{
 "cells": [
  {
   "cell_type": "code",
   "execution_count": 24,
   "metadata": {},
   "outputs": [
    {
     "name": "stdout",
     "output_type": "stream",
     "text": [
      "8.0\n"
     ]
    }
   ],
   "source": [
    "# import math,time,random\n",
    "# print(math.pi)\n",
    "# print(time.time())\n",
    "import math\n",
    "print(math.pow(2,3))"
   ]
  },
  {
   "cell_type": "code",
   "execution_count": 14,
   "metadata": {},
   "outputs": [
    {
     "name": "stdout",
     "output_type": "stream",
     "text": [
      "1\n"
     ]
    }
   ],
   "source": [
    "print(abs(-1))"
   ]
  },
  {
   "cell_type": "code",
   "execution_count": 15,
   "metadata": {},
   "outputs": [
    {
     "name": "stdout",
     "output_type": "stream",
     "text": [
      "8.0\n"
     ]
    }
   ],
   "source": [
    "print(math.pow(2,3))"
   ]
  },
  {
   "cell_type": "code",
   "execution_count": 22,
   "metadata": {},
   "outputs": [
    {
     "name": "stdout",
     "output_type": "stream",
     "text": [
      "1\n",
      "2\n"
     ]
    }
   ],
   "source": [
    "import time\n",
    "print(1)\n",
    "time.sleep(10)\n",
    "print(2)"
   ]
  },
  {
   "cell_type": "code",
   "execution_count": 27,
   "metadata": {},
   "outputs": [
    {
     "name": "stdout",
     "output_type": "stream",
     "text": [
      "3.141592653589793\n",
      "2.718281828459045\n",
      "3\n",
      "2\n"
     ]
    }
   ],
   "source": [
    "print(math.pi)\n",
    "print(math.e)\n",
    "print(math.ceil(2.6))\n",
    "print(math.floor(2.6))"
   ]
  },
  {
   "cell_type": "code",
   "execution_count": 29,
   "metadata": {},
   "outputs": [
    {
     "data": {
      "text/plain": [
       "range(1, 10, 2)"
      ]
     },
     "execution_count": 29,
     "metadata": {},
     "output_type": "execute_result"
    }
   ],
   "source": [
    "range(1,10,2)"
   ]
  },
  {
   "cell_type": "code",
   "execution_count": 34,
   "metadata": {},
   "outputs": [
    {
     "name": "stdout",
     "output_type": "stream",
     "text": [
      "[1, 2, 3, 4, 5]\n",
      "[]\n",
      "[1, 'a', 'AB', 1.1, True]\n",
      "Ptython\n"
     ]
    }
   ],
   "source": [
    "li1 = [1, 2, 3, 4, 5]\n",
    "print(li1)\n",
    "li2 = []\n",
    "print(li2)\n",
    "li3 = [1, 'a', \"AB\", 1.1, True]\n",
    "print(li3)"
   ]
  },
  {
   "cell_type": "code",
   "execution_count": 36,
   "metadata": {},
   "outputs": [
    {
     "name": "stdout",
     "output_type": "stream",
     "text": [
      "Ptython\n",
      "['P', 't', 'y', 't', 'h', 'o', 'n']\n"
     ]
    }
   ],
   "source": [
    "str =\"Ptython\"\n",
    "print(str)\n",
    "liStr = list(str)\n",
    "print(liStr)"
   ]
  },
  {
   "cell_type": "code",
   "execution_count": 37,
   "metadata": {},
   "outputs": [
    {
     "name": "stdout",
     "output_type": "stream",
     "text": [
      "[]\n"
     ]
    }
   ],
   "source": [
    "li4 = list()\n",
    "print(li4)"
   ]
  },
  {
   "cell_type": "code",
   "execution_count": 38,
   "metadata": {},
   "outputs": [
    {
     "name": "stdout",
     "output_type": "stream",
     "text": [
      "[1, 2, 3, 4, 5]\n"
     ]
    }
   ],
   "source": [
    "print(li1)"
   ]
  },
  {
   "cell_type": "code",
   "execution_count": 41,
   "metadata": {},
   "outputs": [
    {
     "name": "stdout",
     "output_type": "stream",
     "text": [
      "True\n",
      "False\n",
      "True\n"
     ]
    }
   ],
   "source": [
    "print(2 in li1)\n",
    "print(6 in li1)\n",
    "print(\"AB\" in li3)"
   ]
  },
  {
   "cell_type": "code",
   "execution_count": 46,
   "metadata": {},
   "outputs": [
    {
     "name": "stdout",
     "output_type": "stream",
     "text": [
      "[1, 2, 3, 4, 5]\n",
      "[]\n",
      "5\n",
      "0\n"
     ]
    }
   ],
   "source": [
    "print(li1)\n",
    "print(li2)\n",
    "print(len(li1))\n",
    "print(len(li2))"
   ]
  },
  {
   "cell_type": "code",
   "execution_count": 55,
   "metadata": {},
   "outputs": [
    {
     "name": "stdout",
     "output_type": "stream",
     "text": [
      "[1, 2, 3, 4, 5]\n",
      "1\n",
      "5\n",
      "[2, 3]\n",
      "[2, 3, 4, 5]\n",
      "[1, 2, 3]\n",
      "[1, 2, 3, 4, 5]\n",
      "[3, 4]\n"
     ]
    }
   ],
   "source": [
    "print(li1)\n",
    "print(li1[0])\n",
    "print(li1[-1])\n",
    "print(li1[1:3])\n",
    "print(li1[1:])\n",
    "print(li1[:3])\n",
    "print(li1[:])\n",
    "print(li1[-3:-1])"
   ]
  },
  {
   "cell_type": "code",
   "execution_count": 58,
   "metadata": {},
   "outputs": [
    {
     "name": "stdout",
     "output_type": "stream",
     "text": [
      "[1, 2, 3, 4, 5]\n",
      "5\n",
      "1\n"
     ]
    }
   ],
   "source": [
    "print(li1)\n",
    "print(max(li1))\n",
    "print(min(li1))"
   ]
  },
  {
   "cell_type": "code",
   "execution_count": null,
   "metadata": {},
   "outputs": [],
   "source": []
  },
  {
   "cell_type": "code",
   "execution_count": 62,
   "metadata": {},
   "outputs": [
    {
     "name": "stdout",
     "output_type": "stream",
     "text": [
      "[1, 2, 3, 4, 5, 6, 6, 'a']\n",
      "[1, 2, 3, 4, 5, 6, 6, 'a', 6]\n",
      "[1, 2, 3, 4, 5, 6, 6, 'a', 6, 'a']\n"
     ]
    }
   ],
   "source": [
    "print(li1)\n",
    "li1.append(6)\n",
    "print(li1)\n",
    "li1.append('a')\n",
    "print(li1)"
   ]
  },
  {
   "cell_type": "code",
   "execution_count": 66,
   "metadata": {},
   "outputs": [
    {
     "name": "stdout",
     "output_type": "stream",
     "text": [
      "[1, 2, 3, 4, 5, 6, 6, 'a', 6, 'a']\n",
      "3\n",
      "2\n",
      "0\n"
     ]
    }
   ],
   "source": [
    "print(li1)\n",
    "print(li1.count(6))\n",
    "print(li1.count('a'))\n",
    "print(li1.count(7))"
   ]
  },
  {
   "cell_type": "code",
   "execution_count": 69,
   "metadata": {},
   "outputs": [
    {
     "name": "stdout",
     "output_type": "stream",
     "text": [
      "[1, 2, 3, 4, 5, 6, 6, 'a', 6, 'a']\n",
      "[1, 'a', 'AB', 1.1, True]\n",
      "[1, 2, 3, 4, 5, 6, 6, 'a', 6, 'a', 1, 'a', 'AB', 1.1, True]\n"
     ]
    }
   ],
   "source": [
    "print(li1)\n",
    "print(li3)\n",
    "li1.extend(li3)\n",
    "print(li1)"
   ]
  },
  {
   "cell_type": "code",
   "execution_count": 70,
   "metadata": {},
   "outputs": [],
   "source": [
    "li1.extend([1,2,3])"
   ]
  },
  {
   "cell_type": "code",
   "execution_count": 71,
   "metadata": {},
   "outputs": [
    {
     "name": "stdout",
     "output_type": "stream",
     "text": [
      "[1, 2, 3, 4, 5, 6, 6, 'a', 6, 'a', 1, 'a', 'AB', 1.1, True, 1, 2, 3]\n"
     ]
    }
   ],
   "source": [
    "print(li1)"
   ]
  }
 ],
 "metadata": {
  "kernelspec": {
   "display_name": "Python 3.9.1 64-bit",
   "language": "python",
   "name": "python3"
  },
  "language_info": {
   "codemirror_mode": {
    "name": "ipython",
    "version": 3
   },
   "file_extension": ".py",
   "mimetype": "text/x-python",
   "name": "python",
   "nbconvert_exporter": "python",
   "pygments_lexer": "ipython3",
   "version": "3.9.1"
  },
  "orig_nbformat": 4,
  "vscode": {
   "interpreter": {
    "hash": "3dbef6ad0a9307bf9d04ec793fbab83c611eccdc7d8296d34afeff18d9f8d7aa"
   }
  }
 },
 "nbformat": 4,
 "nbformat_minor": 2
}
