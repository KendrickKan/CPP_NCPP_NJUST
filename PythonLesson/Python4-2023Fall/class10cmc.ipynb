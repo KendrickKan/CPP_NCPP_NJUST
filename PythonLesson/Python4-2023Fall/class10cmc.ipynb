{
 "cells": [
  {
   "cell_type": "code",
   "execution_count": 1,
   "metadata": {},
   "outputs": [
    {
     "name": "stdout",
     "output_type": "stream",
     "text": [
      "0 0 0 0 \n",
      "0 0 0 0 \n",
      "0 0 0 0 \n",
      "0 0 0 0 \n"
     ]
    }
   ],
   "source": [
    "a = [[0,0,0,0],[0,0,0,0],[0,0,0,0],[0,0,0,0]]\n",
    "num = 1\n",
    "i = 0\n",
    "j = 0\n",
    "while num <= 16:\n",
    "    # 如果向右走\n",
    "    \n",
    "    # 如果向下走\n",
    "    # 如果向左走\n",
    "    # 如果向上走\n",
    "    num += 1\n",
    "for i in range(4):\n",
    "    for j in range(4):\n",
    "        print(a[i][j],end=' ')\n",
    "    print()"
   ]
  },
  {
   "cell_type": "code",
   "execution_count": 17,
   "metadata": {},
   "outputs": [
    {
     "name": "stdout",
     "output_type": "stream",
     "text": [
      "[15, 17, 52, 42, 79, 17, 41, 42, 30, 56]\n",
      "[79, 56, 52, 42, 42, 41, 30, 17, 17, 15]\n",
      "[15, 17, 17, 30, 41, 42, 42, 52, 56, 79]\n",
      "0\n"
     ]
    }
   ],
   "source": [
    "import math\n",
    "import random\n",
    "n = int(input())\n",
    "a = []\n",
    "for i in range(n):\n",
    "    a.append(random.randint(0,100))\n",
    "print(a)\n",
    "a.sort(reverse = True)\n",
    "print(a)\n",
    "a.sort()\n",
    "print(a)\n",
    "\n",
    "key = 60\n",
    "L = 0\n",
    "R = n-1\n",
    "while L<=R:\n",
    "    mid = math.floor((L+R)/2)\n",
    "    if a[mid] == key:\n",
    "        print(1)\n",
    "        break\n",
    "    elif a[mid] < key:\n",
    "        L = mid + 1\n",
    "    else:\n",
    "        R = mid - 1\n",
    "if L>R:\n",
    "    print(0)"
   ]
  },
  {
   "cell_type": "code",
   "execution_count": 23,
   "metadata": {},
   "outputs": [
    {
     "name": "stdout",
     "output_type": "stream",
     "text": [
      "[21, 5, 87, 98, 80, 5, 68, 3, 33, 28]\n",
      "[98, 87, 80, 68, 33, 28, 21, 5, 5, 3]\n",
      "[21, 5, 87, 98, 80, 5, 68, 3, 33, 28]\n",
      "[3, 5, 5, 21, 28, 33, 68, 80, 87, 98]\n",
      "[21, 5, 87, 98, 80, 5, 68, 3, 33, 28]\n"
     ]
    }
   ],
   "source": [
    "import random\n",
    "\n",
    "n = int(input())\n",
    "a = []\n",
    "for i in range(n):\n",
    "    a.append(random.randint(0, 100))\n",
    "print(a)\n",
    "# a.sort(reverse = True)\n",
    "sorted(a, reverse=True)\n",
    "print(sorted(a, reverse=True))\n",
    "print(a)\n",
    "\n",
    "# sorted() 函数返回一个新的列表，不改变原来的列表\n",
    "\n",
    "# a.sort()\n",
    "sorted(a)\n",
    "print(sorted(a))\n",
    "print(a)"
   ]
  }
 ],
 "metadata": {
  "kernelspec": {
   "display_name": "Python 3",
   "language": "python",
   "name": "python3"
  },
  "language_info": {
   "codemirror_mode": {
    "name": "ipython",
    "version": 3
   },
   "file_extension": ".py",
   "mimetype": "text/x-python",
   "name": "python",
   "nbconvert_exporter": "python",
   "pygments_lexer": "ipython3",
   "version": "3.9.1"
  }
 },
 "nbformat": 4,
 "nbformat_minor": 2
}
