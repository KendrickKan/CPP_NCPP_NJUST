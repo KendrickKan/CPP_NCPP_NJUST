{
 "cells": [
  {
   "cell_type": "code",
   "execution_count": 1,
   "metadata": {},
   "outputs": [
    {
     "name": "stdout",
     "output_type": "stream",
     "text": [
      "False\n"
     ]
    }
   ],
   "source": [
    "print(1 == 2)\n",
    "# ==  != >  <  >=  <=\n"
   ]
  },
  {
   "cell_type": "code",
   "execution_count": 4,
   "metadata": {},
   "outputs": [
    {
     "name": "stdout",
     "output_type": "stream",
     "text": [
      "1\n",
      "0\n",
      "1\n"
     ]
    }
   ],
   "source": [
    "# abs() 求绝对值 正数和0的绝对值是自己 负数的绝对值是它的相反数\n",
    "print(abs(1))\n",
    "print(abs(0))\n",
    "print(abs(-1))\n"
   ]
  },
  {
   "cell_type": "code",
   "execution_count": 5,
   "metadata": {},
   "outputs": [
    {
     "name": "stdout",
     "output_type": "stream",
     "text": [
      "(3, 1)\n"
     ]
    }
   ],
   "source": [
    "# divmod() 两个数相除的商和余数\n",
    "print(divmod(10, 3))  # (3, 1)  商和余数\n"
   ]
  },
  {
   "cell_type": "code",
   "execution_count": 10,
   "metadata": {},
   "outputs": [
    {
     "name": "stdout",
     "output_type": "stream",
     "text": [
      "1\n",
      "2\n",
      "1.68\n"
     ]
    }
   ],
   "source": [
    "# round() 四舍五入\n",
    "# round(数值) 保留到整数\n",
    "# round(数值, 保留小数位数) 保留到小数位数\n",
    "print(round(1.1))  # 1\n",
    "print(round(1.5))  # 2\n",
    "print(round(1.676, 2))\n"
   ]
  },
  {
   "cell_type": "code",
   "execution_count": 11,
   "metadata": {},
   "outputs": [
    {
     "name": "stdout",
     "output_type": "stream",
     "text": [
      "5\n",
      "1\n"
     ]
    }
   ],
   "source": [
    "# max() min() 求最大值和最小值\n",
    "# max(数值1, 数值2, 数值3, ...)\n",
    "# min(数值1, 数值2, 数值3, ...)\n",
    "print(max(1, 2, 3, 4, 5))\n",
    "print(min(1, 2, 3, 4, 5))\n"
   ]
  },
  {
   "cell_type": "code",
   "execution_count": 44,
   "metadata": {},
   "outputs": [
    {
     "name": "stdout",
     "output_type": "stream",
     "text": [
      "0.4745706786885481\n",
      "8\n"
     ]
    }
   ],
   "source": [
    "# random库\n",
    "# 导入random库\n",
    "import random\n",
    "# random.random() 生成一个0-1之间的随机小数\n",
    "random.seed(12) # 设置随机种子 保证每次运行结果一样\n",
    "print(random.random())\n",
    "# random.randint(数值1, 数值2) 生成一个数值1-数值2之间的随机整数\n",
    "random.seed(12) # 设置随机种子 保证每次运行结果一样\n",
    "print(random.randint(1, 10))"
   ]
  },
  {
   "cell_type": "code",
   "execution_count": 62,
   "metadata": {},
   "outputs": [
    {
     "name": "stdout",
     "output_type": "stream",
     "text": [
      "ab123c123d\n"
     ]
    }
   ],
   "source": [
    "# 字符串的格式化输出 format()\n",
    "x = 123\n",
    "str = 'ab{}c{}d'.format(123, x)\n",
    "print(str)"
   ]
  },
  {
   "cell_type": "code",
   "execution_count": 64,
   "metadata": {},
   "outputs": [
    {
     "name": "stdout",
     "output_type": "stream",
     "text": [
      "abc123de123f\n"
     ]
    }
   ],
   "source": [
    "# format的另外一种形式 f F\n",
    "x = 123\n",
    "# str = f'abc{123}de{x}f'\n",
    "str = F'abc{123}de{x}f'\n",
    "print(str)"
   ]
  },
  {
   "cell_type": "code",
   "execution_count": 67,
   "metadata": {},
   "outputs": [
    {
     "name": "stdout",
     "output_type": "stream",
     "text": [
      "我叫张三, 今年23岁了\n"
     ]
    }
   ],
   "source": [
    "name = '张三'\n",
    "age = 23\n",
    "str = f'我叫{name}, 今年{age}岁了'\n",
    "print(str)"
   ]
  },
  {
   "cell_type": "code",
   "execution_count": 66,
   "metadata": {},
   "outputs": [
    {
     "name": "stdout",
     "output_type": "stream",
     "text": [
      "我叫张三, 今年20岁了\n",
      "我叫李四, 今年21岁了\n",
      "我叫王五, 今年22岁了\n"
     ]
    }
   ],
   "source": [
    "name = ['张三', '李四', '王五']\n",
    "age = [20, 21, 22]\n",
    "for i in range(3):\n",
    "    str = f'我叫{name[i]}, 今年{age[i]}岁了'\n",
    "    print(str)"
   ]
  }
 ],
 "metadata": {
  "kernelspec": {
   "display_name": "Python 3",
   "language": "python",
   "name": "python3"
  },
  "language_info": {
   "codemirror_mode": {
    "name": "ipython",
    "version": 3
   },
   "file_extension": ".py",
   "mimetype": "text/x-python",
   "name": "python",
   "nbconvert_exporter": "python",
   "pygments_lexer": "ipython3",
   "version": "3.9.1"
  }
 },
 "nbformat": 4,
 "nbformat_minor": 2
}
