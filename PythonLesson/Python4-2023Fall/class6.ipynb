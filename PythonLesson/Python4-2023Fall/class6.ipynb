{
 "cells": [
  {
   "cell_type": "code",
   "execution_count": 8,
   "metadata": {},
   "outputs": [
    {
     "name": "stdout",
     "output_type": "stream",
     "text": [
      "<class 'int'>\n",
      "<class 'float'>\n",
      "<class 'str'>\n",
      "<class 'bool'>\n",
      "<class 'bool'>\n"
     ]
    }
   ],
   "source": [
    "# python的内置函数\n",
    "# print() 输出\n",
    "# input() 输入\n",
    "# type() 返回数据类型\n",
    "print(type(1)) #整数 int\n",
    "print(type(1.1)) #浮点数 float\n",
    "print(type('1')) #字符串 string str\n",
    "print(type(True)) #布尔值 bool\n",
    "print(type(False)) #布尔值 bool\n",
    "# range() 生成一个整数序列\n",
    "# int() 将其他数据类型转换为整数\n",
    "# float() 将其他数据类型转换为浮点数\n",
    "# str() 将其他数据类型转换为字符串\n",
    "# bool() 将其他数据类型转换为布尔值"
   ]
  },
  {
   "cell_type": "code",
   "execution_count": 11,
   "metadata": {},
   "outputs": [
    {
     "name": "stdout",
     "output_type": "stream",
     "text": [
      "1\n",
      "0\n",
      "5\n"
     ]
    }
   ],
   "source": [
    "# abs() 求绝对值 正数和0的绝对值是它本身，负数的绝对值是它的相反数\n",
    "print(abs(-1))\n",
    "print(abs(0))\n",
    "print(abs(5))"
   ]
  },
  {
   "cell_type": "code",
   "execution_count": 15,
   "metadata": {},
   "outputs": [
    {
     "name": "stdout",
     "output_type": "stream",
     "text": [
      "9\n",
      "a\n",
      "1\n",
      "A\n"
     ]
    }
   ],
   "source": [
    "# max() 求最大值 括号里面填写多个数值，中间用逗号，返回最大值\n",
    "print(max(1,2,3,4,5,6,7,8,9))\n",
    "print(max('a','A')) #比较的是ASCII码\n",
    "# min() 求最小值 括号里面填写多个数值，中间用逗号，返回最小值\n",
    "print(min(1,2,3,4,5,6,7,8,9))\n",
    "print(min('a','A')) #比较的是ASCII码"
   ]
  },
  {
   "cell_type": "code",
   "execution_count": 18,
   "metadata": {},
   "outputs": [
    {
     "name": "stdout",
     "output_type": "stream",
     "text": [
      "45\n"
     ]
    }
   ],
   "source": [
    "# sum() 求和 括号里面填写多个数值，中间用逗号，返回和\n",
    "print(sum([1,2,3,4,5,6,7,8,9])) # []表示列表"
   ]
  },
  {
   "cell_type": "code",
   "execution_count": 19,
   "metadata": {},
   "outputs": [
    {
     "name": "stdout",
     "output_type": "stream",
     "text": [
      "(3, 1)\n"
     ]
    }
   ],
   "source": [
    "# divmod() 求商和余数 括号里面填写两个数值，第一个数值除以第二个数值，返回商和余数\n",
    "print(divmod(10,3)) #返回(3,1) 3是商，1是余数，返回的是一对数据，类型是元组tuple"
   ]
  },
  {
   "cell_type": "code",
   "execution_count": null,
   "metadata": {},
   "outputs": [],
   "source": [
    "# pow(a,b) 求幂 b个a相乘\n",
    "print(pow(2,3)) #返回8=2*2*2"
   ]
  },
  {
   "cell_type": "code",
   "execution_count": 20,
   "metadata": {},
   "outputs": [
    {
     "name": "stdout",
     "output_type": "stream",
     "text": [
      "1\n",
      "1.23\n",
      "1.26\n"
     ]
    }
   ],
   "source": [
    "# round() 四舍五入 括号里面填写一个数值，返回四舍五入后的值\n",
    "print(round(1.234)) #返回1\n",
    "print(round(1.234,2)) #返回1.23\n",
    "print(round(1.256,2)) #返回1.26"
   ]
  },
  {
   "cell_type": "code",
   "execution_count": 26,
   "metadata": {},
   "outputs": [
    {
     "name": "stdout",
     "output_type": "stream",
     "text": [
      "A\n",
      "a\n",
      "65\n",
      "97\n",
      "49\n"
     ]
    }
   ],
   "source": [
    "# chr() 将ASCII码转换为字符 限制：0-255\n",
    "print(chr(65)) #返回A\n",
    "print(chr(97)) #返回a\n",
    "# ord() 将字符转换为ASCII码\n",
    "print(ord('A')) #返回65\n",
    "print(ord('a')) #返回97\n",
    "print(ord('1')) #返回49"
   ]
  },
  {
   "cell_type": "code",
   "execution_count": 31,
   "metadata": {},
   "outputs": [
    {
     "name": "stdout",
     "output_type": "stream",
     "text": [
      "0.011289089713734657\n",
      "1\n"
     ]
    }
   ],
   "source": [
    "# 模块Module 是包含某方面功能的所有相关函数和变量的程序集，供其他程序引用\n",
    "\n",
    "import random\n",
    "# random() 生成一个0-1之间的随机数\n",
    "print(random.random())\n",
    "# randint(a,b) 生成一个a-b之间的随机整数\n",
    "print(random.randint(1,10))"
   ]
  },
  {
   "cell_type": "code",
   "execution_count": 33,
   "metadata": {},
   "outputs": [
    {
     "name": "stdout",
     "output_type": "stream",
     "text": [
      "3.141592653589793\n",
      "2.718281828459045\n"
     ]
    }
   ],
   "source": [
    "# math模块\n",
    "import math\n",
    "print(math.pi) #圆周率\n",
    "print(math.e) #自然常数"
   ]
  },
  {
   "cell_type": "code",
   "execution_count": 7,
   "metadata": {},
   "outputs": [
    {
     "name": "stdout",
     "output_type": "stream",
     "text": [
      "[[0, 0, 0, 0, 0], [0, 0, 0, 0, 0], [0, 0, 0, 0, 0], [0, 0, 0, 0, 0], [0, 0, 0, 0, 1]]\n"
     ]
    }
   ],
   "source": [
    "a = [[0,0,0,0,0],[0,0,0,0,0],[0,0,0,0,0],[0,0,0,0,0],[0,0,0,0,0]]\n",
    "a[4][4] = 1\n",
    "print(a)\n",
    "# 随机生成一个5*5的矩阵\n",
    "# 随机生成两个不同的数，这两个数的范围是1-5\n",
    "# 交换n1和n2所在的行\n",
    "\n"
   ]
  },
  {
   "cell_type": "code",
   "execution_count": 27,
   "metadata": {},
   "outputs": [
    {
     "name": "stdout",
     "output_type": "stream",
     "text": [
      "[[1, 4, 7], [2, 5, 8], [3, 6, 9]]\n"
     ]
    }
   ],
   "source": [
    "# 定义一个3*3的矩阵，两个for循环，求转置矩阵\n",
    "# 1 2 3\n",
    "# 4 5 6\n",
    "# 7 8 9\n",
    "a = [[1,2,3],[4,5,6],[7,8,9]]\n",
    "b = [[0,0,0],[0,0,0],[0,0,0]]\n",
    "for i in range(3):\n",
    "    for j in range(3):\n",
    "        b[i][j] = a[j][i]\n",
    "print(b)"
   ]
  }
 ],
 "metadata": {
  "kernelspec": {
   "display_name": "Python 3",
   "language": "python",
   "name": "python3"
  },
  "language_info": {
   "codemirror_mode": {
    "name": "ipython",
    "version": 3
   },
   "file_extension": ".py",
   "mimetype": "text/x-python",
   "name": "python",
   "nbconvert_exporter": "python",
   "pygments_lexer": "ipython3",
   "version": "3.9.1"
  }
 },
 "nbformat": 4,
 "nbformat_minor": 2
}
