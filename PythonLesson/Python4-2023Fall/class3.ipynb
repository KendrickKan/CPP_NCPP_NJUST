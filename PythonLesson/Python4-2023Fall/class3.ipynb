{
 "cells": [
  {
   "cell_type": "code",
   "execution_count": 6,
   "metadata": {},
   "outputs": [
    {
     "name": "stdout",
     "output_type": "stream",
     "text": [
      "3\n"
     ]
    }
   ],
   "source": [
    "# 小明带两个妹妹参加元宵灯会。\n",
    "# 别人问她们多大了，她们调皮地说：“我们俩的年龄之积是年龄之和的 6 倍”。\n",
    "# 小明又补充说：“她们可不是双胞胎，年龄差肯定也不超过 8 岁啊。”\n",
    "# 请你计算出：小明的较小的妹妹的年龄。\n",
    "\n",
    "print(len(set('123')))\n",
    "\n",
    "# 公鸡每只 5 元，母鸡每只 3 元，小鸡 3 只一元，\n",
    "# 现要求用 100 元钱买 100 只鸡(三种类型的鸡都要买)，问公鸡、母鸡、小鸡各买几只?"
   ]
  },
  {
   "cell_type": "code",
   "execution_count": 8,
   "metadata": {},
   "outputs": [
    {
     "name": "stdout",
     "output_type": "stream",
     "text": [
      "<class 'str'>\n",
      "123\n",
      "<class 'int'>\n"
     ]
    }
   ],
   "source": [
    "# input()函数用于获取用户输入的信息\n",
    "num = input(\"请输入数量：\")\n",
    "print(type(num))\n",
    "num = int(num)\n",
    "print(num)\n",
    "print(type(num))\n",
    "\n",
    "# input()函数获取的信息都是 字符串 类型"
   ]
  },
  {
   "cell_type": "code",
   "execution_count": null,
   "metadata": {},
   "outputs": [],
   "source": [
    "# 请输入一个数，如果这个数是ji数的话，请输出YES\n",
    "# 判断偶数的方法:对这个数取余，如果余数是0的话，就是偶数 + - * / % //"
   ]
  },
  {
   "cell_type": "code",
   "execution_count": 9,
   "metadata": {},
   "outputs": [
    {
     "name": "stdout",
     "output_type": "stream",
     "text": [
      "YES\n"
     ]
    }
   ],
   "source": [
    "a = input(\"请输入一个数\")\n",
    "a = int(a)\n",
    "if a % 2 == 0:\n",
    "    print(\"YES\")"
   ]
  }
 ],
 "metadata": {
  "kernelspec": {
   "display_name": "Python 3",
   "language": "python",
   "name": "python3"
  },
  "language_info": {
   "codemirror_mode": {
    "name": "ipython",
    "version": 3
   },
   "file_extension": ".py",
   "mimetype": "text/x-python",
   "name": "python",
   "nbconvert_exporter": "python",
   "pygments_lexer": "ipython3",
   "version": "3.9.1"
  }
 },
 "nbformat": 4,
 "nbformat_minor": 2
}
