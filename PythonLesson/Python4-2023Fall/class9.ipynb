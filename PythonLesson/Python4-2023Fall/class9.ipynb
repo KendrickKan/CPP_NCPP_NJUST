{
 "cells": [
  {
   "cell_type": "code",
   "execution_count": 4,
   "metadata": {},
   "outputs": [
    {
     "name": "stdout",
     "output_type": "stream",
     "text": [
      "1\n",
      "2\n",
      "1\n"
     ]
    },
    {
     "ename": "ValueError",
     "evalue": "9 is not in list",
     "output_type": "error",
     "traceback": [
      "\u001b[1;31m---------------------------------------------------------------------------\u001b[0m",
      "\u001b[1;31mValueError\u001b[0m                                Traceback (most recent call last)",
      "Cell \u001b[1;32mIn [4], line 8\u001b[0m\n\u001b[0;32m      6\u001b[0m \u001b[38;5;66;03m# index() 从列表中找出某个值第一个匹配项的索引位置\u001b[39;00m\n\u001b[0;32m      7\u001b[0m \u001b[38;5;28mprint\u001b[39m(list1\u001b[38;5;241m.\u001b[39mindex(\u001b[38;5;241m2\u001b[39m))\n\u001b[1;32m----> 8\u001b[0m \u001b[38;5;28mprint\u001b[39m(\u001b[43mlist1\u001b[49m\u001b[38;5;241;43m.\u001b[39;49m\u001b[43mindex\u001b[49m\u001b[43m(\u001b[49m\u001b[38;5;241;43m9\u001b[39;49m\u001b[43m)\u001b[49m)\n",
      "\u001b[1;31mValueError\u001b[0m: 9 is not in list"
     ]
    }
   ],
   "source": [
    "# list 列表\n",
    "# count() 统计某个元素在列表中出现的次数\n",
    "list1 = [1, 2, 3, 4, 5, 6, 7, 8, 2]\n",
    "print(list1.count(1))\n",
    "print(list1.count(2))\n",
    "# index() 从列表中找出某个值第一个匹配项的索引位置,如果没有找到则报错\n",
    "print(list1.index(2))\n",
    "print(list1.index(9))"
   ]
  },
  {
   "cell_type": "code",
   "execution_count": 6,
   "metadata": {},
   "outputs": [
    {
     "name": "stdout",
     "output_type": "stream",
     "text": [
      "[1, 2, 2, 3, 4, 5, 6, 7, 8]\n",
      "[8, 7, 6, 5, 4, 3, 2, 2, 1]\n"
     ]
    }
   ],
   "source": [
    "# sort() 对列表进行排序\n",
    "list2 = [1, 3, 2, 4, 5, 6, 7, 8, 2]\n",
    "# 默认升序 从小到大\n",
    "list2.sort()\n",
    "print(list2)\n",
    "# 降序 从大到小\n",
    "list2.sort(reverse=True)\n",
    "print(list2)"
   ]
  },
  {
   "cell_type": "code",
   "execution_count": 10,
   "metadata": {},
   "outputs": [
    {
     "name": "stdout",
     "output_type": "stream",
     "text": [
      "[1, 3, 4, 5, 6, 7, 8, 2]\n",
      "[1, 3, 4, 5, 6, 7, 8]\n",
      "[1, 3, 5, 6, 7, 8]\n"
     ]
    }
   ],
   "source": [
    "# remove() 从列表中移除某个值的 第一个匹配项\n",
    "list3 = [1, 3, 2, 4, 5, 6, 7, 8, 2]\n",
    "list3.remove(2)\n",
    "print(list3)\n",
    "# pop() 移除列表中的一个元素(默认最后一个)\n",
    "list3.pop()\n",
    "print(list3)\n",
    "# pop(index) 移除列表中的一个元素(指定位置)\n",
    "list3.pop(2)\n",
    "print(list3)"
   ]
  },
  {
   "cell_type": "code",
   "execution_count": 11,
   "metadata": {},
   "outputs": [
    {
     "ename": "",
     "evalue": "",
     "output_type": "error",
     "traceback": [
      "\u001b[1;31m在当前单元格或上一个单元格中执行代码时 Kernel 崩溃。请查看单元格中的代码，以确定故障的可能原因。有关详细信息，请单击 <a href='https://aka.ms/vscodeJupyterKernelCrash'>此处</a>。有关更多详细信息，请查看 Jupyter <a href='command:jupyter.viewOutput'>log</a>。"
     ]
    }
   ],
   "source": [
    "# turtle 绘图\n",
    "# turtle 是一个模块，所以要先导入\n",
    "import turtle\n",
    "# 创建一个画布 setup(宽度，高度)\n",
    "turtle.setup(800, 400)\n",
    "# 设置画笔颜色 color(颜色)\n",
    "turtle.color(\"bulue\")\n",
    "# 设置画笔大小 width(大小)\n",
    "turtle.width(10)\n",
    "# 设置画笔移动速度 speed(速度)\n",
    "turtle.speed(1)\n",
    "# 设置画笔移动方向 setheading(角度)\n",
    "turtle.setheading(90)\n",
    "# 移动画笔 forward(距离)\n",
    "turtle.forward(100)"
   ]
  }
 ],
 "metadata": {
  "kernelspec": {
   "display_name": "Python 3",
   "language": "python",
   "name": "python3"
  },
  "language_info": {
   "codemirror_mode": {
    "name": "ipython",
    "version": 3
   },
   "file_extension": ".py",
   "mimetype": "text/x-python",
   "name": "python",
   "nbconvert_exporter": "python",
   "pygments_lexer": "ipython3",
   "version": "3.9.1"
  }
 },
 "nbformat": 4,
 "nbformat_minor": 2
}
