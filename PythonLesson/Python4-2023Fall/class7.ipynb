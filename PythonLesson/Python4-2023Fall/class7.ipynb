{
 "cells": [
  {
   "cell_type": "code",
   "execution_count": null,
   "metadata": {},
   "outputs": [],
   "source": [
    "# 自定义define函数\n",
    "# def 函数名(参数列表):\n",
    "#     函数体\n",
    "#     return 返回值"
   ]
  },
  {
   "cell_type": "code",
   "execution_count": 1,
   "metadata": {},
   "outputs": [
    {
     "name": "stdout",
     "output_type": "stream",
     "text": [
      "10\n"
     ]
    }
   ],
   "source": [
    "def my_abs(x):\n",
    "    if x >= 0:\n",
    "        return x\n",
    "    else:\n",
    "        return -x\n",
    "\n",
    "print(my_abs(-10))"
   ]
  },
  {
   "cell_type": "code",
   "execution_count": 22,
   "metadata": {},
   "outputs": [
    {
     "name": "stdout",
     "output_type": "stream",
     "text": [
      "1703245575.6191983\n",
      "time.struct_time(tm_year=2023, tm_mon=12, tm_mday=22, tm_hour=19, tm_min=46, tm_sec=15, tm_wday=4, tm_yday=356, tm_isdst=0)\n",
      "3.141592653589793\n",
      "2.718281828459045\n",
      "4\n",
      "3\n",
      "5\n"
     ]
    }
   ],
   "source": [
    "# Module 模块\n",
    "# 同时引用time和math两个模块\n",
    "import time, math\n",
    "# time模块\n",
    "print(time.time()) # 时间戳：从1970年1月1日0时0分0秒开始按秒计算的偏移量\n",
    "print(time.localtime()) # 当前时间的时间结构\n",
    "# math模块\n",
    "print(math.pi) # pi的值\n",
    "print(math.e) # e的值\n",
    "print(math.ceil(3.14)) # ceil向上取整\n",
    "print(math.floor(3.14)) # floor向下取整\n",
    "print(math.gcd(10, 25)) # 最大公约数"
   ]
  },
  {
   "cell_type": "code",
   "execution_count": null,
   "metadata": {},
   "outputs": [],
   "source": [
    "# 定义一个函数，参数为半径r，返回圆的面积\n",
    "def circle_area(r):\n",
    "    return math.pi * r * r\n",
    "# 定义一个函数，参数为半径r，返回圆的周长"
   ]
  }
 ],
 "metadata": {
  "kernelspec": {
   "display_name": "Python 3",
   "language": "python",
   "name": "python3"
  },
  "language_info": {
   "codemirror_mode": {
    "name": "ipython",
    "version": 3
   },
   "file_extension": ".py",
   "mimetype": "text/x-python",
   "name": "python",
   "nbconvert_exporter": "python",
   "pygments_lexer": "ipython3",
   "version": "3.9.1"
  }
 },
 "nbformat": 4,
 "nbformat_minor": 2
}
