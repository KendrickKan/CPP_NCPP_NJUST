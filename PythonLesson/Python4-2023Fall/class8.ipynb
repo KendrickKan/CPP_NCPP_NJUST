{
 "cells": [
  {
   "cell_type": "code",
   "execution_count": 3,
   "metadata": {},
   "outputs": [
    {
     "name": "stdout",
     "output_type": "stream",
     "text": [
      "[1, 2, 3, 4, 5]\n",
      "<class 'list'>\n",
      "['hello', 'world', 'python']\n"
     ]
    }
   ],
   "source": [
    "# 列表（List）是包含0个或多个元素的有序序列，没有长度限制，可自由增删元素。\n",
    "# 列表用[]表示，元素之间用逗号分隔，列表中的元素可以是不同类型的数据。\n",
    "list1 = [1, 2, 3, 4, 5]\n",
    "print(list1)\n",
    "print(type(list1))\n",
    "list2 = ['hello', 'world', 'python']\n",
    "print(list2)"
   ]
  },
  {
   "cell_type": "code",
   "execution_count": 4,
   "metadata": {},
   "outputs": [
    {
     "name": "stdout",
     "output_type": "stream",
     "text": [
      "['h', 'e', 'l', 'l', 'o']\n"
     ]
    }
   ],
   "source": [
    "# list()函数可以将其他类型的数据转换为列表\n",
    "str1 = 'hello'\n",
    "list3 = list(str1)\n",
    "print(list3)"
   ]
  },
  {
   "cell_type": "code",
   "execution_count": 8,
   "metadata": {},
   "outputs": [
    {
     "name": "stdout",
     "output_type": "stream",
     "text": [
      "True\n",
      "True\n",
      "False\n",
      "5\n"
     ]
    }
   ],
   "source": [
    "# in 和 not in 成员运算符\n",
    "list4 = [1, 2, 3, 4, 5]\n",
    "print(1 in list4)\n",
    "print(6 not in list4)\n",
    "print(6 in list4)\n",
    "# len()函数可以获取列表的长度\n",
    "print(len(list4))"
   ]
  },
  {
   "cell_type": "code",
   "execution_count": 10,
   "metadata": {},
   "outputs": [
    {
     "name": "stdout",
     "output_type": "stream",
     "text": [
      "1\n",
      "5\n"
     ]
    }
   ],
   "source": [
    "# 列表的索引/下标\n",
    "# 列表的正向索引从0开始，最大索引为len(list)-1\n",
    "# 列表的反向索引从-1开始，最小索引为-len(list)\n",
    "list5 = [1, 2, 3, 4, 5]\n",
    "print(list5[0])\n",
    "print(list5[-1])"
   ]
  },
  {
   "cell_type": "code",
   "execution_count": 15,
   "metadata": {},
   "outputs": [
    {
     "name": "stdout",
     "output_type": "stream",
     "text": [
      "[2, 3]\n",
      "[2, 3, 4]\n",
      "[2, 3, 4, 5]\n",
      "[1, 2, 3]\n"
     ]
    }
   ],
   "source": [
    "list5 = [1, 2, 3, 4, 5]\n",
    "#        0  1  2  3  4\n",
    "# 列表的切片\n",
    "# 列表名[起始索引:结束索引] 从起始索引开始，到结束索引之 前 的元素\n",
    "print(list5[1:3])\n",
    "print(list5[1:-1])\n",
    "print(list5[1:])\n",
    "print(list5[:3])"
   ]
  },
  {
   "cell_type": "code",
   "execution_count": 23,
   "metadata": {},
   "outputs": [
    {
     "name": "stdout",
     "output_type": "stream",
     "text": [
      "5\n",
      "1\n",
      "[1, 2, 3, 4, 5, 6]\n",
      "[0, 1, 2, 3, 4, 5, 6]\n",
      "[]\n"
     ]
    }
   ],
   "source": [
    "# max()函数可以获取列表中的最大值\n",
    "# min()函数可以获取列表中的最小值\n",
    "list6 = [1, 2, 3, 4, 5]\n",
    "print(max(list6))\n",
    "print(min(list6))\n",
    "# append()方法可以向列表的 末尾 追加一个元素\n",
    "list6.append(6)\n",
    "print(list6)\n",
    "# insert()方法可以在列表的指定索引位置插入一个元素 insert(index, object)\n",
    "list6.insert(0, 0)\n",
    "print(list6)\n",
    "# clear()方法可以清空列表\n",
    "list6.clear()\n",
    "print(list6)"
   ]
  },
  {
   "cell_type": "code",
   "execution_count": null,
   "metadata": {},
   "outputs": [],
   "source": [
    "n=2\n",
    "m=3\n",
    "a = []\n",
    "b = []\n",
    "for i in range(n):\n",
    "    t = []\n",
    "    for j in range(m):\n",
    "        x = 1\n",
    "        t.append(x)\n",
    "    a.append(t)"
   ]
  },
  {
   "cell_type": "code",
   "execution_count": 16,
   "metadata": {},
   "outputs": [
    {
     "name": "stdout",
     "output_type": "stream",
     "text": [
      "1\n",
      "1\n",
      "1\n",
      "1\n",
      "1\n",
      "1\n",
      "1\n",
      "1\n",
      "1\n",
      "1\n",
      "1\n",
      "1\n",
      "1\n",
      "1\n",
      "1\n",
      "1\n",
      "1\n",
      "1\n",
      "1\n",
      "1\n"
     ]
    }
   ],
   "source": [
    "for i in range(4):\n",
    "    for j in range(5):\n",
    "        print(1)"
   ]
  }
 ],
 "metadata": {
  "kernelspec": {
   "display_name": "Python 3",
   "language": "python",
   "name": "python3"
  },
  "language_info": {
   "codemirror_mode": {
    "name": "ipython",
    "version": 3
   },
   "file_extension": ".py",
   "mimetype": "text/x-python",
   "name": "python",
   "nbconvert_exporter": "python",
   "pygments_lexer": "ipython3",
   "version": "3.9.1"
  }
 },
 "nbformat": 4,
 "nbformat_minor": 2
}
