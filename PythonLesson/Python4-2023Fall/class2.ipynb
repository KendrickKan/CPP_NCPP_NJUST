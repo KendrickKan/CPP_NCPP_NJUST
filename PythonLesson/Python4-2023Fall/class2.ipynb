{
 "cells": [
  {
   "cell_type": "code",
   "execution_count": 2,
   "metadata": {},
   "outputs": [
    {
     "name": "stdout",
     "output_type": "stream",
     "text": [
      "Hello123World456\n"
     ]
    }
   ],
   "source": [
    "str = 'Hello{}World{}'.format(123, 456)\n",
    "print(str)"
   ]
  },
  {
   "cell_type": "code",
   "execution_count": 7,
   "metadata": {},
   "outputs": [
    {
     "name": "stdout",
     "output_type": "stream",
     "text": [
      "True\n",
      "False\n",
      "False\n",
      "True\n",
      "True\n",
      "False\n",
      "False\n",
      "True\n"
     ]
    }
   ],
   "source": [
    "# 与 或 非\n",
    "# and or not\n",
    "# True真 False假\n",
    "# and 与 两个条件都为真，结果才为真，否则为假\n",
    "print(True and True)\n",
    "print(True and False)\n",
    "print(False and False)\n",
    "# or 或 两个条件只要有一个为真，结果就为真，否则为假\n",
    "print(True or True)\n",
    "print(True or False)\n",
    "print(False or False)\n",
    "# not 非 取反\n",
    "print(not True)\n",
    "print(not False)"
   ]
  },
  {
   "cell_type": "code",
   "execution_count": 8,
   "metadata": {},
   "outputs": [
    {
     "name": "stdout",
     "output_type": "stream",
     "text": [
      "True\n",
      "False\n",
      "False\n"
     ]
    }
   ],
   "source": [
    "# and or not 的优先级 not > and > or\n",
    "print(True or False and True)\n",
    "print(True and False or False)\n",
    "print(not True or False and True)"
   ]
  },
  {
   "cell_type": "code",
   "execution_count": null,
   "metadata": {},
   "outputs": [],
   "source": [
    "# 冒泡排序\n",
    "li = [1, 2, 3, 4, 5, 6, 7, 8, 9]\n",
    "n = len(li)\n",
    "for i in range(n - 1):\n",
    "    for j in range(n - 1 - i):\n",
    "        if li[j] > li[j + 1]:\n",
    "            li[j], li[j + 1] = li[j + 1], li[j]"
   ]
  },
  {
   "cell_type": "code",
   "execution_count": 11,
   "metadata": {},
   "outputs": [
    {
     "name": "stdout",
     "output_type": "stream",
     "text": [
      "2\n",
      "1\n",
      "0\n"
     ]
    }
   ],
   "source": [
    "# True False 布尔值bool 1 0 整数值\n",
    "print(True + True)\n",
    "print(True + False)\n",
    "print(False + False)"
   ]
  },
  {
   "cell_type": "code",
   "execution_count": 18,
   "metadata": {},
   "outputs": [
    {
     "name": "stdout",
     "output_type": "stream",
     "text": [
      "1\n",
      "6\n",
      "2\n",
      "4\n",
      "2.0\n",
      "1.0\n"
     ]
    }
   ],
   "source": [
    "# 增量赋值运算符 += -= *= /= //= %=\n",
    "a = 1 # 赋值运算符\n",
    "print(a)\n",
    "a += 5 # 增量赋值运算符\n",
    "print(a)\n",
    "a -= 4\n",
    "print(a)\n",
    "a *= 2\n",
    "print(a)\n",
    "a /= 2\n",
    "print(a)\n",
    "a //= 2\n",
    "print(a)"
   ]
  },
  {
   "cell_type": "code",
   "execution_count": null,
   "metadata": {},
   "outputs": [],
   "source": []
  },
  {
   "cell_type": "code",
   "execution_count": null,
   "metadata": {},
   "outputs": [],
   "source": [
    "# python中的运算符\n",
    "# 算数运算符 + - * / // % **"
   ]
  },
  {
   "cell_type": "code",
   "execution_count": 22,
   "metadata": {},
   "outputs": [
    {
     "name": "stdout",
     "output_type": "stream",
     "text": [
      "True\n",
      "False\n",
      "False\n",
      "True\n"
     ]
    }
   ],
   "source": [
    "# 成员运算符 in    not in\n",
    "# in 判断一个元素是否在一个序列中\n",
    "print('s' in 'study')\n",
    "print('S' in 'study python')\n",
    "# not in 判断一个元素是否不在一个序列中\n",
    "print('s' not in 'study')\n",
    "print('S' not in 'study python')"
   ]
  },
  {
   "cell_type": "code",
   "execution_count": 25,
   "metadata": {},
   "outputs": [
    {
     "name": "stdout",
     "output_type": "stream",
     "text": [
      "True\n",
      "False\n"
     ]
    }
   ],
   "source": [
    "# 同一性运算符 is    is not\n",
    "# is 判断两个标识符是不是引用自一个对象\n",
    "a = 1\n",
    "b = 1\n",
    "print(a is b)\n",
    "# is not 判断两个标识符是不是引用自不同对象\n",
    "print(a is not b)"
   ]
  },
  {
   "cell_type": "code",
   "execution_count": 29,
   "metadata": {},
   "outputs": [
    {
     "name": "stdout",
     "output_type": "stream",
     "text": [
      "True\n",
      "1 + 1 == 2\n"
     ]
    }
   ],
   "source": [
    "# 单分支选择结构 if\n",
    "# if 条件表达式:\n",
    "#     语句块\n",
    "# if True:\n",
    "#     print('True')\n",
    "# if False:\n",
    "#     print('False')\n",
    "if 1 + 1 == 2:\n",
    "    print('1 + 1 == 2')\n",
    "    print('成功执行1')\n",
    "print('成功执行2')\n",
    "print('成功执行3')\n",
    "# 用缩进来表示语句块\n",
    "if 1 + 1 == 3:\n",
    "    print('1 + 1 == 3')"
   ]
  },
  {
   "cell_type": "code",
   "execution_count": null,
   "metadata": {},
   "outputs": [],
   "source": []
  }
 ],
 "metadata": {
  "kernelspec": {
   "display_name": "Python 3",
   "language": "python",
   "name": "python3"
  },
  "language_info": {
   "codemirror_mode": {
    "name": "ipython",
    "version": 3
   },
   "file_extension": ".py",
   "mimetype": "text/x-python",
   "name": "python",
   "nbconvert_exporter": "python",
   "pygments_lexer": "ipython3",
   "version": "3.9.1"
  }
 },
 "nbformat": 4,
 "nbformat_minor": 2
}
