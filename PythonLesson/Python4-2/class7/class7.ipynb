{
 "cells": [
  {
   "cell_type": "code",
   "execution_count": 4,
   "metadata": {},
   "outputs": [
    {
     "name": "stdout",
     "output_type": "stream",
     "text": [
      "True\n",
      "False\n",
      "True\n",
      "False\n"
     ]
    }
   ],
   "source": [
    "# 成员运算符\n",
    "# in 和 not in\n",
    "# in 用于判断某个值是否在序列中\n",
    "# not in 用于判断某个值是否不在序列中\n",
    "print('H' in 'Hello')\n",
    "print('h' in 'Hello')\n",
    "print('h' not in 'Hello')\n",
    "print('H' not in 'Hello')"
   ]
  },
  {
   "cell_type": "code",
   "execution_count": 8,
   "metadata": {},
   "outputs": [
    {
     "name": "stdout",
     "output_type": "stream",
     "text": [
      "True\n",
      "True\n"
     ]
    }
   ],
   "source": [
    "print(\"He\" in \"Hello\")\n",
    "print(\"H o\" in \"Hello\")"
   ]
  },
  {
   "cell_type": "code",
   "execution_count": 11,
   "metadata": {},
   "outputs": [
    {
     "name": "stdout",
     "output_type": "stream",
     "text": [
      "True\n",
      "False\n",
      "False\n",
      "True\n"
     ]
    },
    {
     "name": "stderr",
     "output_type": "stream",
     "text": [
      "<>:5: SyntaxWarning: \"is\" with a literal. Did you mean \"==\"?\n",
      "<>:6: SyntaxWarning: \"is not\" with a literal. Did you mean \"!=\"?\n",
      "<>:7: SyntaxWarning: \"is\" with a literal. Did you mean \"==\"?\n",
      "<>:8: SyntaxWarning: \"is not\" with a literal. Did you mean \"!=\"?\n",
      "<>:5: SyntaxWarning: \"is\" with a literal. Did you mean \"==\"?\n",
      "<>:6: SyntaxWarning: \"is not\" with a literal. Did you mean \"!=\"?\n",
      "<>:7: SyntaxWarning: \"is\" with a literal. Did you mean \"==\"?\n",
      "<>:8: SyntaxWarning: \"is not\" with a literal. Did you mean \"!=\"?\n",
      "C:\\Users\\21\\AppData\\Local\\Temp\\ipykernel_13044\\4068903496.py:5: SyntaxWarning: \"is\" with a literal. Did you mean \"==\"?\n",
      "  print(20 is 20)\n",
      "C:\\Users\\21\\AppData\\Local\\Temp\\ipykernel_13044\\4068903496.py:6: SyntaxWarning: \"is not\" with a literal. Did you mean \"!=\"?\n",
      "  print(20 is not 20)\n",
      "C:\\Users\\21\\AppData\\Local\\Temp\\ipykernel_13044\\4068903496.py:7: SyntaxWarning: \"is\" with a literal. Did you mean \"==\"?\n",
      "  print(21 is 20)\n",
      "C:\\Users\\21\\AppData\\Local\\Temp\\ipykernel_13044\\4068903496.py:8: SyntaxWarning: \"is not\" with a literal. Did you mean \"!=\"?\n",
      "  print(21 is not 20)\n"
     ]
    }
   ],
   "source": [
    "# 同一性运算符\n",
    "# is 和 is not\n",
    "# is 用于判断两个东西是不是同一个东西\n",
    "# is not 用于判断两个东西是不是不是同一个东西\n",
    "print(20 is 20)\n",
    "print(20 is not 20)\n",
    "print(21 is 20)\n",
    "print(21 is not 20)"
   ]
  },
  {
   "cell_type": "code",
   "execution_count": null,
   "metadata": {},
   "outputs": [],
   "source": [
    "# if 语句     if的中文意思:如果\n",
    "# 基本结构如下\n",
    "\n",
    "# if 条件:\n",
    "#   语句块\n",
    "\n",
    "# 注意:冒号和缩进\n",
    "\n",
    "# if 语句的执行流程\n",
    "# 1. 先判断if后面的条件是否成立\n",
    "# 2. 如果条件成立,执行if后面的语句块\n",
    "# 3. 如果条件不成立,不执行if后面的语句块"
   ]
  },
  {
   "cell_type": "code",
   "execution_count": 15,
   "metadata": {},
   "outputs": [
    {
     "name": "stdout",
     "output_type": "stream",
     "text": [
      "条件成立\n",
      "程序结束\n"
     ]
    }
   ],
   "source": [
    "if True:\n",
    "    print('条件成立')\n",
    "if False:\n",
    "    print('条件不成立')\n",
    "print('程序结束')"
   ]
  },
  {
   "cell_type": "code",
   "execution_count": 16,
   "metadata": {},
   "outputs": [],
   "source": [
    "a = 10\n",
    "b = 20\n",
    "if a > b:\n",
    "    print('a大于b')"
   ]
  },
  {
   "cell_type": "code",
   "execution_count": null,
   "metadata": {},
   "outputs": [],
   "source": [
    "# 定义一个数a = 10\n",
    "# 如果a大于0,输出a是大于0"
   ]
  },
  {
   "cell_type": "code",
   "execution_count": null,
   "metadata": {},
   "outputs": [],
   "source": [
    "# if elif else语句\n",
    "# 基本结构如下\n",
    "\n",
    "# if 条件1:\n",
    "#   语句块1\n",
    "# elif 条件2:\n",
    "#   语句块2\n",
    "# else:\n",
    "#   语句块3\n",
    "\n",
    "# 注意:冒号和缩进\n",
    "# 注意:elif可以有多个或者没有,else可以没有\n",
    "\n",
    "# if elif else语句的执行流程\n",
    "# 执行流程\n",
    "# 1. 先判断if后面的条件是否成立\n",
    "# 2. 如果条件成立,执行if后面的语句块\n",
    "# 3. 如果条件不成立,执行elif后面的条件是否成立\n",
    "# 4. 如果条件成立,执行elif后面的语句块\n",
    "# 5. 如果条件不成立,执行else后面的语句块"
   ]
  },
  {
   "cell_type": "code",
   "execution_count": 17,
   "metadata": {},
   "outputs": [
    {
     "name": "stdout",
     "output_type": "stream",
     "text": [
      "a小于b\n"
     ]
    }
   ],
   "source": [
    "# 实列\n",
    "a = 10\n",
    "b = 20\n",
    "if a > b:\n",
    "    print('a大于b')\n",
    "elif a < b:\n",
    "    print('a小于b')\n",
    "else:\n",
    "    print('a等于b')"
   ]
  },
  {
   "cell_type": "code",
   "execution_count": 18,
   "metadata": {},
   "outputs": [
    {
     "name": "stdout",
     "output_type": "stream",
     "text": [
      "良好\n"
     ]
    }
   ],
   "source": [
    "# 实例2\n",
    "a = 90\n",
    "if a > 90:\n",
    "    print('优秀')\n",
    "elif a > 80:\n",
    "    print('良好')\n",
    "elif a > 70:\n",
    "    print('中等')\n",
    "elif a > 60:\n",
    "    print('及格')\n",
    "else:\n",
    "    print('不及格')"
   ]
  },
  {
   "cell_type": "code",
   "execution_count": null,
   "metadata": {},
   "outputs": [],
   "source": [
    "# 实例3\n",
    "a = 90\n",
    "if a >= 60:\n",
    "    print('及格')\n",
    "else:\n",
    "    print('不及格')"
   ]
  },
  {
   "cell_type": "code",
   "execution_count": null,
   "metadata": {},
   "outputs": [],
   "source": [
    "# 请定义一个变量 pm2.5 = 100\n",
    "# 如果pm2.5大于150,输出严重污染\n",
    "# 如果pm2.5大于115,输出重度污染\n",
    "# 如果pm2.5大于75,输出中度污染\n",
    "# 如果pm2.5大于35,输出轻度污染\n",
    "# 如果pm2.5小于等于35,输出优\n",
    "pm2_5 = 100"
   ]
  }
 ],
 "metadata": {
  "kernelspec": {
   "display_name": "Python 3",
   "language": "python",
   "name": "python3"
  },
  "language_info": {
   "codemirror_mode": {
    "name": "ipython",
    "version": 3
   },
   "file_extension": ".py",
   "mimetype": "text/x-python",
   "name": "python",
   "nbconvert_exporter": "python",
   "pygments_lexer": "ipython3",
   "version": "3.9.1"
  },
  "orig_nbformat": 4
 },
 "nbformat": 4,
 "nbformat_minor": 2
}
