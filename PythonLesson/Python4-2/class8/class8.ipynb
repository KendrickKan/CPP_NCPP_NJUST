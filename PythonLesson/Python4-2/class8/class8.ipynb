{
 "cells": [
  {
   "cell_type": "code",
   "execution_count": null,
   "metadata": {},
   "outputs": [],
   "source": [
    "# input()函数\n",
    "pi = input('请输入圆周率')\n",
    "print(pi)\n",
    "# input里面的提示性文本只起到提示的作用，可以省略"
   ]
  },
  {
   "cell_type": "code",
   "execution_count": null,
   "metadata": {},
   "outputs": [],
   "source": [
    "pi = input()\n",
    "print(pi)"
   ]
  },
  {
   "cell_type": "code",
   "execution_count": null,
   "metadata": {},
   "outputs": [],
   "source": [
    "# input()函数输入进来的类型是字符串类型\n",
    "# 可以使用int()将输入内容转化为整数\n",
    "# 可以使用float()将输入内容转化为浮点\n",
    "a = int(input())\n",
    "print(a + 2)\n"
   ]
  },
  {
   "cell_type": "code",
   "execution_count": null,
   "metadata": {},
   "outputs": [],
   "source": [
    "# 请输入一个整数成绩，如果成绩大于等于60，输出及格，否则输出不及格\n",
    "# if...else"
   ]
  },
  {
   "cell_type": "code",
   "execution_count": null,
   "metadata": {},
   "outputs": [],
   "source": [
    "if 2>1:\n",
    "    print('2>1')"
   ]
  },
  {
   "cell_type": "code",
   "execution_count": 2,
   "metadata": {},
   "outputs": [
    {
     "name": "stdout",
     "output_type": "stream",
     "text": [
      "1\n"
     ]
    }
   ],
   "source": [
    "a = 1\n",
    "print(a)\n"
   ]
  },
  {
   "cell_type": "code",
   "execution_count": 3,
   "metadata": {},
   "outputs": [
    {
     "name": "stdout",
     "output_type": "stream",
     "text": [
      "1\n",
      "3\n",
      "5\n",
      "7\n",
      "9\n"
     ]
    }
   ],
   "source": [
    "# range()函数可以生成一个整数序列。\n",
    "# range()函数可以指定序列的起始值、终止值和步长。\n",
    "# range(a,b,c)函数的三个参数：a起始值、b终止值和c步长。\n",
    "# range(a,b)函数的两个参数：a起始值和b终止值，此时步长默认为1。\n",
    "# range(a)函数的一个参数：终止值，此时初始值为0，步长为1。\n",
    "# range()函数的三个参数都是整数，且终止值不包含在序列中。\n",
    "\n",
    "range(1, 10, 2)\n",
    "# 1=< n <10, n+=2\n",
    "# 1 3 5 7 9\n",
    "range(1,10)\n",
    "# 1=< n <10, n+=1\n",
    "# 1 2 3 4 5 6 7 8 9\n",
    "range(10)\n",
    "# 0 =< n <10, n+=1\n",
    "# 0 1 2 3 4 5 6 7 8 9"
   ]
  }
 ],
 "metadata": {
  "kernelspec": {
   "display_name": "Python 3",
   "language": "python",
   "name": "python3"
  },
  "language_info": {
   "codemirror_mode": {
    "name": "ipython",
    "version": 3
   },
   "file_extension": ".py",
   "mimetype": "text/x-python",
   "name": "python",
   "nbconvert_exporter": "python",
   "pygments_lexer": "ipython3",
   "version": "3.9.1"
  },
  "orig_nbformat": 4
 },
 "nbformat": 4,
 "nbformat_minor": 2
}
