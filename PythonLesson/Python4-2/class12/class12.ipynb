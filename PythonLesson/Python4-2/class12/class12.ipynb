{
 "cells": [
  {
   "cell_type": "code",
   "execution_count": 2,
   "metadata": {},
   "outputs": [
    {
     "name": "stdout",
     "output_type": "stream",
     "text": [
      "class 12\n"
     ]
    }
   ],
   "source": [
    "print('class 12')"
   ]
  },
  {
   "cell_type": "code",
   "execution_count": 33,
   "metadata": {},
   "outputs": [],
   "source": [
    "import turtle\n",
    "turtle.screensize(800, 600, \"green\")\n",
    "\n",
    "# turtle.shape(\"circle\") #改变画笔形状\n",
    "turtle.shape(\"turtle\") #乌龟\n",
    "#turtle.shape(\"circle\") 圆圈\n",
    "#turtle.shape(\"square\") 方块\n",
    "#turtle.shape(\"triangle\") 三角形\n",
    "#turtle.shape(\"classic\") 经典箭头\n",
    "#turtle.shape(\"arrow\") 箭头、\n",
    "\n",
    "\n",
    "# 画笔的粗细\n",
    "turtle.pensize(2)\n",
    "# 画笔的颜色\n",
    "turtle.pencolor(\"red\")\n",
    "# 画笔的速度\n",
    "turtle.speed(1)\n",
    "\n",
    "\n",
    "# 画一个正方形\n",
    "turtle.begin_fill() #开始填充\n",
    "turtle.fillcolor(\"yellow\") #填充颜色\n",
    "\n",
    "# 头尾相接的封闭图形\n",
    "\n",
    "turtle.forward(100) #向前移动100像素\n",
    "turtle.left(90) #向左转90度\n",
    "turtle.forward(100)\n",
    "turtle.left(90)\n",
    "turtle.forward(100)\n",
    "turtle.left(90)\n",
    "turtle.forward(100)\n",
    "\n",
    "turtle.end_fill() #结束填充\n",
    "\n",
    "\n",
    "turtle.exitonclick() #点击关闭画布窗口"
   ]
  }
 ],
 "metadata": {
  "kernelspec": {
   "display_name": "Python 3",
   "language": "python",
   "name": "python3"
  },
  "language_info": {
   "codemirror_mode": {
    "name": "ipython",
    "version": 3
   },
   "file_extension": ".py",
   "mimetype": "text/x-python",
   "name": "python",
   "nbconvert_exporter": "python",
   "pygments_lexer": "ipython3",
   "version": "3.9.1"
  },
  "orig_nbformat": 4
 },
 "nbformat": 4,
 "nbformat_minor": 2
}
