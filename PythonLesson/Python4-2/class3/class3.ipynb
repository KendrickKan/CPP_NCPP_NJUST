{
 "cells": [
  {
   "cell_type": "code",
   "execution_count": null,
   "metadata": {},
   "outputs": [],
   "source": [
    "# 算数运算符\n",
    "# 1. 加法运算符 +\n",
    "# 2. 减法运算符 -\n",
    "# 3. 乘法运算符 *\n",
    "# 4. 除法运算符 /\n",
    "# 5. 整除运算符 //\n",
    "# 6. 取余运算符 %"
   ]
  },
  {
   "cell_type": "code",
   "execution_count": 6,
   "metadata": {},
   "outputs": [
    {
     "name": "stdout",
     "output_type": "stream",
     "text": [
      "13\n",
      "5\n",
      "36\n",
      "2.25\n",
      "2\n",
      "1\n"
     ]
    }
   ],
   "source": [
    "a = 9\n",
    "b = 4\n",
    "print(a+b)\n",
    "print(a-b)\n",
    "print(a*b)\n",
    "print(a/b)\n",
    "print(a//b)\n",
    "print(a%b)"
   ]
  },
  {
   "cell_type": "code",
   "execution_count": 8,
   "metadata": {},
   "outputs": [
    {
     "name": "stdout",
     "output_type": "stream",
     "text": [
      "-5\n",
      "5\n"
     ]
    }
   ],
   "source": [
    "#  -------- -3 - -2 - -1 - 0 - 1 - 2 - 3 ---------->\n",
    "# 5的负数是-5\n",
    "x = 5\n",
    "print(-x)\n",
    "# 5的正数是5\n",
    "print(+x)"
   ]
  },
  {
   "cell_type": "code",
   "execution_count": 11,
   "metadata": {},
   "outputs": [
    {
     "name": "stdout",
     "output_type": "stream",
     "text": [
      "4\n",
      "8\n",
      "16\n",
      "9\n"
     ]
    }
   ],
   "source": [
    "# 乘方（幂）运算符 a**b：读作a的b次方：b个a相乘\n",
    "# 2的2次方 2*2=4\n",
    "print(2**2)\n",
    "# 2的3次方 2*2*2=8\n",
    "print(2**3)\n",
    "# 2的4次方 2*2*2*2=16\n",
    "print(2**4)\n",
    "# 3的2次方 3*3=9\n",
    "print(3**2)\n",
    "# #注释"
   ]
  },
  {
   "cell_type": "code",
   "execution_count": 12,
   "metadata": {},
   "outputs": [
    {
     "name": "stdout",
     "output_type": "stream",
     "text": [
      "1\n",
      "2\n"
     ]
    }
   ],
   "source": [
    "print(1)\n",
    "\"\"\"大师大a\n",
    "飞洒saasf\n",
    "飞洒发\n",
    "sdaf\"\"\"\n",
    "# 多行注释 开头和结尾都是三个单引号或者三个双引号\n",
    "print(2)"
   ]
  },
  {
   "cell_type": "code",
   "execution_count": 16,
   "metadata": {},
   "outputs": [
    {
     "name": "stdout",
     "output_type": "stream",
     "text": [
      "youyou\n",
      "yaojinghao\n",
      "youyou and yaojinghao\n",
      "youyou\n",
      "yaojinghao\n"
     ]
    }
   ],
   "source": [
    "str1 = 'youyou'\n",
    "str2 = \"yaojinghao\"\n",
    "str3 = '''youyou and yaojinghao'''\n",
    "str4 = '''youyou\\nyaojinghao'''\n",
    "# 单引号和双引号都可以表示字符串\n",
    "# 三个单引号或者三个双引号可以表示多行字符串\n",
    "# \\n 放在字符串中表示换行\n",
    "print(str1)\n",
    "print(str2)\n",
    "print(str3)\n",
    "print(str4)"
   ]
  },
  {
   "cell_type": "code",
   "execution_count": 22,
   "metadata": {},
   "outputs": [
    {
     "name": "stdout",
     "output_type": "stream",
     "text": [
      "Hello,World!\n",
      "H\n",
      "e\n",
      "!\n",
      "W\n",
      "W\n"
     ]
    }
   ],
   "source": [
    "# 字符串的索引\n",
    "a = 'Hello,World!'\n",
    "# 从左往右 下标从0开始\n",
    "# 从右往左 下标从-1开始\n",
    "print(a)\n",
    "print(a[0])\n",
    "print(a[1])\n",
    "print(a[-1])\n",
    "print(a[-6])\n",
    "print(a[6])"
   ]
  },
  {
   "cell_type": "code",
   "execution_count": 23,
   "metadata": {},
   "outputs": [
    {
     "name": "stdout",
     "output_type": "stream",
     "text": [
      "t\n",
      "t\n"
     ]
    }
   ],
   "source": [
    "str = 'Python'\n",
    "# 输出第三个字符\n",
    "# P  y  t  h  o  n\n",
    "# 0  1  2  3  4  5 正向下标\n",
    "# -6 -5 -4 -3 -2 -1 反向下标\n",
    "print(str[2])\n",
    "print(str[-4])\n",
    "# 输出第5个字符"
   ]
  }
 ],
 "metadata": {
  "kernelspec": {
   "display_name": "Python 3",
   "language": "python",
   "name": "python3"
  },
  "language_info": {
   "codemirror_mode": {
    "name": "ipython",
    "version": 3
   },
   "file_extension": ".py",
   "mimetype": "text/x-python",
   "name": "python",
   "nbconvert_exporter": "python",
   "pygments_lexer": "ipython3",
   "version": "3.9.1"
  },
  "orig_nbformat": 4
 },
 "nbformat": 4,
 "nbformat_minor": 2
}
