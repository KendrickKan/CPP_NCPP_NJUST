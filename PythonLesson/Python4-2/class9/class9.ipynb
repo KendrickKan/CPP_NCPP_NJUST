{
 "cells": [
  {
   "cell_type": "code",
   "execution_count": null,
   "metadata": {},
   "outputs": [],
   "source": [
    "# range()函数可以生成一个整数序列。\n",
    "# range()函数可以指定序列的起始值、终止值和步长。\n",
    "# range(a,b,c)函数的三个参数：a起始值、b终止值和c步长。\n",
    "# range(a,b)函数的两个参数：a起始值和b终止值，此时步长默认为1。\n",
    "# range(a)函数的一个参数：终止值，此时初始值为0，步长为1。\n",
    "# range()函数的三个参数都是整数，且终止值不包含在序列中。\n",
    "\n",
    "range(1, 10, 2)\n",
    "# 1=< n <10, n+=2\n",
    "# 1 3 5 7 9\n",
    "range(1,10)\n",
    "# 1=< n <10, n+=1\n",
    "# 1 2 3 4 5 6 7 8 9\n",
    "range(10)\n",
    "# 0 =< n <10, n+=1\n",
    "# 0 1 2 3 4 5 6 7 8 9"
   ]
  },
  {
   "cell_type": "code",
   "execution_count": null,
   "metadata": {},
   "outputs": [],
   "source": [
    "# 基本的for循环\n",
    "# 确定循环次数的循环:遍历循环\n",
    "# for循环的语法格式：\n",
    "\n",
    "# for 变量 in 序列:\n",
    "#     语句块"
   ]
  },
  {
   "cell_type": "code",
   "execution_count": 1,
   "metadata": {},
   "outputs": [
    {
     "name": "stdout",
     "output_type": "stream",
     "text": [
      "0\n",
      "1\n",
      "2\n",
      "3\n",
      "4\n",
      "5\n",
      "6\n",
      "7\n",
      "8\n",
      "9\n"
     ]
    }
   ],
   "source": [
    "for a in range(10):\n",
    "    print(a)\n",
    "\n",
    "# 使用基本for循环 打印 1-10\n",
    "# 使用基本for循环 打印 1 4 7 10 13"
   ]
  },
  {
   "cell_type": "code",
   "execution_count": 8,
   "metadata": {},
   "outputs": [
    {
     "name": "stdout",
     "output_type": "stream",
     "text": [
      "5050\n"
     ]
    }
   ],
   "source": [
    "# for循环求1-100的和\n",
    "# sum = 1+2+3+4+5+6+7+8+9+10+...+100\n",
    "sum = 0\n",
    "\n",
    "for i in range(1, 101):\n",
    "    sum += i\n",
    "\n",
    "print(sum)\n",
    "# sum = 0\n",
    "# sum = sum + 1 = 1\n",
    "# sum = sum + 2 = 3\n",
    "# sum = sum + 3 = 6\n",
    "# sum = sum + 4 = 10\n",
    "# ...\n",
    "# sum = sum + 100 = 5050"
   ]
  },
  {
   "cell_type": "code",
   "execution_count": 10,
   "metadata": {},
   "outputs": [
    {
     "name": "stdout",
     "output_type": "stream",
     "text": [
      "1\n",
      "1\n",
      "2\n",
      "3\n",
      "5\n",
      "8\n",
      "13\n",
      "21\n",
      "34\n",
      "55\n",
      "89\n",
      "144\n",
      "233\n",
      "377\n",
      "610\n"
     ]
    }
   ],
   "source": [
    "# 斐波那契数列\n",
    "# 1 1 2 3 5 8 13 21 34 55 89 144 233 377 610 ...\n",
    "# 从第三项开始，每一项都等于前两项之和。\n",
    "# 用for循环 求斐波那契数列的前n项\n",
    "\n",
    "# a b c\n",
    "#     1\n",
    "#     1\n",
    "# 1 1 2\n",
    "# 1 2 3\n",
    "# 2 3 5\n",
    "n = int(input(\"请输入一个整数：\"))\n",
    "a = 1\n",
    "b = 1\n",
    "c = a + b\n",
    "for i in range(1,n+1):\n",
    "    if i==1 or i==2:\n",
    "        print(1)\n",
    "    else:\n",
    "        c = a + b\n",
    "        a = b\n",
    "        b = c\n",
    "        print(c)\n"
   ]
  }
 ],
 "metadata": {
  "kernelspec": {
   "display_name": "Python 3",
   "language": "python",
   "name": "python3"
  },
  "language_info": {
   "codemirror_mode": {
    "name": "ipython",
    "version": 3
   },
   "file_extension": ".py",
   "mimetype": "text/x-python",
   "name": "python",
   "nbconvert_exporter": "python",
   "pygments_lexer": "ipython3",
   "version": "3.9.1"
  },
  "orig_nbformat": 4
 },
 "nbformat": 4,
 "nbformat_minor": 2
}
