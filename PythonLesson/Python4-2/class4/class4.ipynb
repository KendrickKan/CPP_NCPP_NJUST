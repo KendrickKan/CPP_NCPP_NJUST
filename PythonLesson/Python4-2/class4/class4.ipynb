{
 "cells": [
  {
   "cell_type": "code",
   "execution_count": 7,
   "metadata": {},
   "outputs": [
    {
     "name": "stdout",
     "output_type": "stream",
     "text": [
      "tud\n",
      "udyPyt\n",
      "udyP\n",
      "thon\n",
      "udyPython\n",
      "Stu\n",
      "StudyPython\n"
     ]
    }
   ],
   "source": [
    "a = 'StudyPython'\n",
    "# S  t  u  d  y  P  y  t  h  o  n\n",
    "# 0  1  2  3  4  5  6  7  8  9  10\n",
    "#-11-10-9 -8 -7 -6 -5 -4 -3 -2 -1\n",
    "print(a[1:4])\n",
    "# a[M:N] 输出 M<=   <N\n",
    "# M、N既可以是正向下标 又可以是逆向下标\n",
    "print(a[2:8])\n",
    "print(a[-9:-5])\n",
    "print(a[7:])\n",
    "# a[M:] 输出下标大于等于M的字符串 一直到最后\n",
    "print(a[-9:])\n",
    "\n",
    "print(a[:3])\n",
    "# a[:N] 从第一个字符开始 输出下标小于N的字符串\n",
    "\n",
    "print(a[:])"
   ]
  },
  {
   "cell_type": "code",
   "execution_count": 12,
   "metadata": {},
   "outputs": [
    {
     "name": "stdout",
     "output_type": "stream",
     "text": [
      "StudyPythonStudyPythonStudyPython\n",
      "StudyPythonWell!\n"
     ]
    }
   ],
   "source": [
    "a = 'StudyPython'\n",
    "# 字符串的乘法 乘几就是将字符串复制几次\n",
    "print(a * 3)\n",
    "# 字符串的加法 加字符或者字符串 将字符串拼接起来\n",
    "b = a + 'Well' + '!'\n",
    "print(b)"
   ]
  },
  {
   "cell_type": "code",
   "execution_count": 17,
   "metadata": {},
   "outputs": [
    {
     "name": "stdout",
     "output_type": "stream",
     "text": [
      "True\n"
     ]
    }
   ],
   "source": [
    "a = 'Study Python'\n",
    "b = 'dy P'\n",
    "print(b in a)\n",
    "# True 正确的、真的\n",
    "# False 错误的、假的\n",
    "#  字符串1 in 字符串2    判断字符串1是否是字符串2的子串"
   ]
  },
  {
   "cell_type": "code",
   "execution_count": 29,
   "metadata": {},
   "outputs": [
    {
     "name": "stdout",
     "output_type": "stream",
     "text": [
      "True\n",
      "False\n",
      "True\n",
      "False\n"
     ]
    }
   ],
   "source": [
    "# 关系运算符\n",
    "# == 判断是否相等\n",
    "# print(1 == 2)\n",
    "# print(3 == 3)\n",
    "# print('abc' == 'abc')\n",
    "# != 判断是否不相等\n",
    "# print(1 != 2)\n",
    "# print(2 != 2)\n",
    "# print('a' != 'a')\n",
    "# > 判断大于\n",
    "# < 判断小于\n",
    "print(2 > 1)\n",
    "print(2 > 2)\n",
    "print(2 < 3)\n",
    "print(2 < 2)\n"
   ]
  },
  {
   "cell_type": "code",
   "execution_count": 30,
   "metadata": {},
   "outputs": [
    {
     "name": "stdout",
     "output_type": "stream",
     "text": [
      "True\n",
      "True\n",
      "True\n",
      "True\n"
     ]
    }
   ],
   "source": [
    "# >= 判断大于等于\n",
    "# <= 判断小于等于\n",
    "print(2 >= 1)\n",
    "print(2 >= 2)\n",
    "print(2 <= 3)\n",
    "print(2 <= 2)"
   ]
  },
  {
   "cell_type": "code",
   "execution_count": 33,
   "metadata": {},
   "outputs": [
    {
     "name": "stdout",
     "output_type": "stream",
     "text": [
      "1\n",
      "0\n",
      "2\n"
     ]
    }
   ],
   "source": [
    "# 绝对值 |1|=1  |0|=0  |-2|=2\n",
    "# 正数和0的绝对值是它本身\n",
    "# 负数的绝对值是它的相反数\n",
    "# abs() 绝对值函数\n",
    "print(abs(1))\n",
    "print(abs(0))\n",
    "print(abs(-2))"
   ]
  },
  {
   "cell_type": "code",
   "execution_count": 36,
   "metadata": {},
   "outputs": [
    {
     "name": "stdout",
     "output_type": "stream",
     "text": [
      "1\n",
      "4\n"
     ]
    }
   ],
   "source": [
    "# min() 求最小值\n",
    "# max() 求最大值\n",
    "# 括号里面填数字 每个数字用英文逗号隔开\n",
    "print(min(1,2,3))\n",
    "print(max(1,2,3,4))"
   ]
  },
  {
   "cell_type": "code",
   "execution_count": 37,
   "metadata": {},
   "outputs": [
    {
     "name": "stdout",
     "output_type": "stream",
     "text": [
      "3\n",
      "4\n"
     ]
    }
   ],
   "source": [
    "# round() 四舍五入求整数\n",
    "print(round(3.14))\n",
    "print(round(3.54))"
   ]
  },
  {
   "cell_type": "code",
   "execution_count": 39,
   "metadata": {},
   "outputs": [
    {
     "name": "stdout",
     "output_type": "stream",
     "text": [
      "8\n",
      "16\n"
     ]
    }
   ],
   "source": [
    "# pow(a,b) 求a的b次方 b个a相乘\n",
    "print(pow(2, 3)) #2*2*2=8\n",
    "print(pow(4, 2)) #4*4=16\n"
   ]
  }
 ],
 "metadata": {
  "kernelspec": {
   "display_name": "Python 3",
   "language": "python",
   "name": "python3"
  },
  "language_info": {
   "codemirror_mode": {
    "name": "ipython",
    "version": 3
   },
   "file_extension": ".py",
   "mimetype": "text/x-python",
   "name": "python",
   "nbconvert_exporter": "python",
   "pygments_lexer": "ipython3",
   "version": "3.9.1"
  },
  "orig_nbformat": 4
 },
 "nbformat": 4,
 "nbformat_minor": 2
}
