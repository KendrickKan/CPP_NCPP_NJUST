{
 "cells": [
  {
   "cell_type": "code",
   "execution_count": 1,
   "metadata": {},
   "outputs": [
    {
     "name": "stdout",
     "output_type": "stream",
     "text": [
      "'\n",
      "\"\n",
      "!\n"
     ]
    }
   ],
   "source": [
    "print('\\'')\n",
    "print('\\\"')\n",
    "# 反斜杠字符\\开头的字符，表示转义字符\n",
    "# \\' 表示单引号\n",
    "# \\\" 表示双引号\n",
    "# \\n 表示换行\n",
    "print('!')"
   ]
  },
  {
   "cell_type": "code",
   "execution_count": 7,
   "metadata": {},
   "outputs": [
    {
     "name": "stdout",
     "output_type": "stream",
     "text": [
      "He'l\n",
      "lo\n"
     ]
    }
   ],
   "source": [
    "print('He\\'l\\nlo')"
   ]
  },
  {
   "cell_type": "code",
   "execution_count": 14,
   "metadata": {},
   "outputs": [
    {
     "name": "stdout",
     "output_type": "stream",
     "text": [
      "Hello123nihao456\n"
     ]
    }
   ],
   "source": [
    "# format()函数\n",
    "# 里面的参数与{}的顺序一一对应\n",
    "str = 'Hello{}nihao{}'.format(123,456)\n",
    "print(str)"
   ]
  },
  {
   "cell_type": "code",
   "execution_count": 17,
   "metadata": {},
   "outputs": [
    {
     "name": "stdout",
     "output_type": "stream",
     "text": [
      "1\n",
      "2\n",
      "3 4\n"
     ]
    }
   ],
   "source": [
    "# print()函数\n",
    "print(1)\n",
    "print(2)\n",
    "# print()函数默认输出是换行的，如果要实现不换行需要在变量末尾加上end=\"\"\n",
    "print(3,end=\" \")\n",
    "print(4)\n",
    "# 三个print()在同一行输出123，每个print()输出一个数字"
   ]
  },
  {
   "cell_type": "code",
   "execution_count": 20,
   "metadata": {},
   "outputs": [
    {
     "name": "stdout",
     "output_type": "stream",
     "text": [
      "False\n",
      "True\n",
      "False\n"
     ]
    }
   ],
   "source": [
    "print(True and False)\n",
    "print(True or False)\n",
    "print(not True)"
   ]
  },
  {
   "cell_type": "code",
   "execution_count": 24,
   "metadata": {},
   "outputs": [
    {
     "name": "stdout",
     "output_type": "stream",
     "text": [
      "False\n",
      "True\n",
      "True\n"
     ]
    }
   ],
   "source": [
    "# 逻辑运算符\n",
    "# and 与\n",
    "# or 或\n",
    "# not 非\n",
    "print(1 + 1 == 1 and 1 + 2 == 3)\n",
    "print(1 + 1 == 1 or 1 + 2 == 3)\n",
    "print(not 1 + 1 == 1)\n",
    "# 布尔值 bool ：True False\n",
    "# 逻辑运算符的结果是布尔值"
   ]
  },
  {
   "cell_type": "code",
   "execution_count": 25,
   "metadata": {},
   "outputs": [
    {
     "name": "stdout",
     "output_type": "stream",
     "text": [
      "False\n"
     ]
    }
   ],
   "source": [
    "print(5 < 3 and 1 == 1)\n"
   ]
  },
  {
   "cell_type": "code",
   "execution_count": 26,
   "metadata": {},
   "outputs": [
    {
     "name": "stdout",
     "output_type": "stream",
     "text": [
      "1\n",
      "0\n"
     ]
    }
   ],
   "source": [
    "a = True\n",
    "print(int(a))\n",
    "b = False\n",
    "print(int(b))"
   ]
  },
  {
   "cell_type": "code",
   "execution_count": 29,
   "metadata": {},
   "outputs": [
    {
     "name": "stdout",
     "output_type": "stream",
     "text": [
      "1\n",
      "3\n"
     ]
    }
   ],
   "source": [
    "# 增量赋值运算符\n",
    "a = 1\n",
    "print(a)\n",
    "# 增量加法\n",
    "a += 2 # 等价于 a = a + 2\n",
    "print(a)"
   ]
  },
  {
   "cell_type": "code",
   "execution_count": 30,
   "metadata": {},
   "outputs": [
    {
     "name": "stdout",
     "output_type": "stream",
     "text": [
      "1\n"
     ]
    }
   ],
   "source": [
    "# 增量减法\n",
    "a = 3\n",
    "a -= 2  # 等价于 a = a - 2\n",
    "print(a)"
   ]
  },
  {
   "cell_type": "code",
   "execution_count": 31,
   "metadata": {},
   "outputs": [
    {
     "name": "stdout",
     "output_type": "stream",
     "text": [
      "6\n"
     ]
    }
   ],
   "source": [
    "# 增量乘法\n",
    "a = 3\n",
    "a *= 2  # 等价于 a = a * 2\n",
    "print(a)"
   ]
  },
  {
   "cell_type": "code",
   "execution_count": 32,
   "metadata": {},
   "outputs": [
    {
     "name": "stdout",
     "output_type": "stream",
     "text": [
      "1.5\n"
     ]
    }
   ],
   "source": [
    "# 增量除法\n",
    "a = 3\n",
    "a /= 2  # 等价于 a = a / 2\n",
    "print(a)"
   ]
  },
  {
   "cell_type": "code",
   "execution_count": 33,
   "metadata": {},
   "outputs": [
    {
     "name": "stdout",
     "output_type": "stream",
     "text": [
      "1\n"
     ]
    }
   ],
   "source": [
    "# 增量取余\n",
    "a = 3\n",
    "a %= 2  # 等价于 a = a % 2\n",
    "print(a)"
   ]
  },
  {
   "cell_type": "code",
   "execution_count": 34,
   "metadata": {},
   "outputs": [
    {
     "name": "stdout",
     "output_type": "stream",
     "text": [
      "2\n"
     ]
    }
   ],
   "source": [
    "# 增量取整除\n",
    "a = 5\n",
    "a //= 2  # 等价于 a = a // 2\n",
    "print(a)"
   ]
  },
  {
   "cell_type": "code",
   "execution_count": 35,
   "metadata": {},
   "outputs": [
    {
     "name": "stdout",
     "output_type": "stream",
     "text": [
      "8\n"
     ]
    }
   ],
   "source": [
    "# 增量幂运算\n",
    "a = 2\n",
    "a **= 3  # 等价于 a = a ** 3\n",
    "print(a)"
   ]
  }
 ],
 "metadata": {
  "kernelspec": {
   "display_name": "Python 3",
   "language": "python",
   "name": "python3"
  },
  "language_info": {
   "codemirror_mode": {
    "name": "ipython",
    "version": 3
   },
   "file_extension": ".py",
   "mimetype": "text/x-python",
   "name": "python",
   "nbconvert_exporter": "python",
   "pygments_lexer": "ipython3",
   "version": "3.9.1"
  },
  "orig_nbformat": 4
 },
 "nbformat": 4,
 "nbformat_minor": 2
}
