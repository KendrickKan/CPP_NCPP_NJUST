{
 "cells": [
  {
   "cell_type": "code",
   "execution_count": null,
   "metadata": {},
   "outputs": [],
   "source": [
    "# 之前学的 Python内置函数\n",
    "\n",
    "# Python自定义函数\n",
    "# def 函数名(参数):\n",
    "#     函数体\n",
    "#     return 返回值"
   ]
  },
  {
   "cell_type": "code",
   "execution_count": 4,
   "metadata": {},
   "outputs": [
    {
     "name": "stdout",
     "output_type": "stream",
     "text": [
      "1\n",
      "3\n",
      "6\n",
      "10\n"
     ]
    }
   ],
   "source": [
    "def my_count(n):\n",
    "    sum = 0\n",
    "    for i in range(1,n+1):\n",
    "        sum += i\n",
    "    return sum\n",
    "\n",
    "\n",
    "print(my_count(1))\n",
    "print(my_count(2))\n",
    "print(my_count(3))\n",
    "print(my_count(4))"
   ]
  },
  {
   "cell_type": "code",
   "execution_count": 5,
   "metadata": {},
   "outputs": [
    {
     "name": "stdout",
     "output_type": "stream",
     "text": [
      "3\n"
     ]
    }
   ],
   "source": [
    "# 定义一个函数，传入两个参数，返回两个参数的和\n",
    "# 1.定义函数\n",
    "def my_sum(a, b):\n",
    "    # 函数体\n",
    "    sum = a + b\n",
    "    # 返回值\n",
    "    return sum\n",
    "\n",
    "\n",
    "# 2.调用函数\n",
    "# 函数名(参数)\n",
    "print(my_sum(1,2))\n"
   ]
  },
  {
   "cell_type": "code",
   "execution_count": null,
   "metadata": {},
   "outputs": [],
   "source": [
    "# 定义一个函数，传入三个参数，返回三个参数积"
   ]
  },
  {
   "cell_type": "code",
   "execution_count": null,
   "metadata": {},
   "outputs": [],
   "source": [
    "# 自定义函数的步骤\n",
    "# 1.定义函数\n",
    "# def 函数名(参数1,参数2,...):\n",
    "#     函数体\n",
    "#     return 返回值\n",
    "# 2.调用函数\n",
    "# 函数名(参数1,参数2,...)\n"
   ]
  },
  {
   "cell_type": "code",
   "execution_count": null,
   "metadata": {},
   "outputs": [],
   "source": [
    "# Python模块\n",
    "# 1.引入模块\n",
    "# import 模块名\n",
    "# 2.使用模块\n",
    "# ①模块名.函数名(参数)\n",
    "# ②模块名.变量名"
   ]
  },
  {
   "cell_type": "code",
   "execution_count": 10,
   "metadata": {},
   "outputs": [
    {
     "name": "stdout",
     "output_type": "stream",
     "text": [
      "3.141592653589793\n",
      "2.0\n",
      "5\n",
      "4\n"
     ]
    }
   ],
   "source": [
    "# math 模块\n",
    "# 引入模块\n",
    "import math\n",
    "# 使用模块\n",
    "print(math.pi) # 圆周率\n",
    "print(math.sqrt(4)) # 开平方\n",
    "print(math.ceil(4.1)) # 向上取整\n",
    "print(math.floor(4.9)) # 向下取整"
   ]
  },
  {
   "cell_type": "code",
   "execution_count": 14,
   "metadata": {},
   "outputs": [
    {
     "name": "stdout",
     "output_type": "stream",
     "text": [
      "time.struct_time(tm_year=2023, tm_mon=5, tm_mday=27, tm_hour=10, tm_min=41, tm_sec=49, tm_wday=5, tm_yday=147, tm_isdst=0)\n",
      "1\n"
     ]
    }
   ],
   "source": [
    "# time 模块\n",
    "import time\n",
    "print(time.localtime())  # 获取当前时间\n",
    "time.sleep(5)  # 程序休眠5秒"
   ]
  },
  {
   "cell_type": "code",
   "execution_count": null,
   "metadata": {},
   "outputs": [],
   "source": [
    "# 列表 用方括号表示[] 元素间用逗号隔开\n",
    "# 1.定义列表\n",
    "# 列表名 = [元素1,元素2,...]\n",
    "# 2.访问列表某一个元素\n",
    "# 列表名[下标]\n",
    "# 3.修改列表某一个元素\n",
    "# 列表名[下标] = 新值\n",
    "# 4.删除列表值\n",
    "# del 列表名[下标]\n",
    "\n",
    "\n",
    "# 5.列表的方法\n",
    "# 列表名.sort()  # 列表排序 从小到大\n",
    "# 列表名.append(元素)  # 在列表末尾添加元素\n",
    "# 列表名.insert(下标,元素)  # 在指定位置添加元素\n",
    "# 列表名.pop()  # 删除列表末尾元素\n",
    "# 列表名.pop(下标)  # 删除指定位置元素\n",
    "# 列表名.remove(元素)  # 删除指定元素\n",
    "# 列表名.clear()  # 清空列表"
   ]
  },
  {
   "cell_type": "code",
   "execution_count": 23,
   "metadata": {},
   "outputs": [
    {
     "name": "stdout",
     "output_type": "stream",
     "text": [
      "[1, 2, 3, 4, 5]\n",
      "2\n",
      "[1, 6, 3, 4, 5]\n",
      "[1, 3, 4, 5]\n"
     ]
    }
   ],
   "source": [
    "li = [1,2,3,4,5]\n",
    "#下标 0 1 2 3 4\n",
    "print(li)\n",
    "print(li[1])\n",
    "li[1] = 6\n",
    "print(li)\n",
    "del li[1]\n",
    "print(li)"
   ]
  },
  {
   "cell_type": "code",
   "execution_count": 31,
   "metadata": {},
   "outputs": [
    {
     "name": "stdout",
     "output_type": "stream",
     "text": [
      "[5, 4, 3, 2, 1]\n",
      "[1, 2, 3, 4, 5]\n",
      "[1, 2, 3, 4, 5, 6]\n",
      "[1, 7, 2, 3, 4, 5, 6]\n",
      "[1, 7, 2, 3, 4, 5]\n",
      "[1, 2, 3, 4, 5]\n",
      "[2, 3, 4, 5]\n",
      "[]\n"
     ]
    }
   ],
   "source": [
    "li = [5,4,3,2,1]\n",
    "print(li)\n",
    "li.sort()\n",
    "print(li)\n",
    "li.append(6)\n",
    "print(li)\n",
    "li.insert(1,7)\n",
    "print(li)\n",
    "li.pop()\n",
    "print(li)\n",
    "li.pop(1)\n",
    "print(li)\n",
    "li.remove(1)\n",
    "print(li)\n",
    "li.clear()\n",
    "print(li)"
   ]
  }
 ],
 "metadata": {
  "kernelspec": {
   "display_name": "Python 3",
   "language": "python",
   "name": "python3"
  },
  "language_info": {
   "codemirror_mode": {
    "name": "ipython",
    "version": 3
   },
   "file_extension": ".py",
   "mimetype": "text/x-python",
   "name": "python",
   "nbconvert_exporter": "python",
   "pygments_lexer": "ipython3",
   "version": "3.9.1"
  },
  "orig_nbformat": 4
 },
 "nbformat": 4,
 "nbformat_minor": 2
}
